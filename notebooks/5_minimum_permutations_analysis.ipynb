{
 "cells": [
  {
   "cell_type": "markdown",
   "id": "07bb8a81",
   "metadata": {},
   "source": [
    "# Minimum Permutations Analysis with Unique Edge Sampling\n",
    "\n",
    "This notebook implements a progressive training approach to determine the minimum number of permutations needed for effective edge probability distribution learning. It uses unique edge sampling to eliminate data leakage and maximize the benefit of multiple permutations."
   ]
  },
  {
   "cell_type": "code",
   "execution_count": null,
   "id": "2e55e856",
   "metadata": {},
   "outputs": [
    {
     "name": "stdout",
     "output_type": "stream",
     "text": [
      "All imports successful!\n",
      "Repository directory: /projects/lgillenwater@xsede.org/repositories/Context-Aware-Path-Probability\n",
      "PyTorch available: 2.6.0\n",
      "CUDA available: False\n"
     ]
    }
   ],
   "source": [
    "import sys\n",
    "import numpy as np\n",
    "import pandas as pd\n",
    "from pathlib import Path\n",
    "import matplotlib.pyplot as plt\n",
    "import seaborn as sns\n",
    "import warnings\n",
    "warnings.filterwarnings('ignore')\n",
    "\n",
    "# Add src to path\n",
    "repo_dir = Path.cwd().parent\n",
    "sys.path.append(str(repo_dir / 'src'))\n",
    "\n",
    "# Import helper modules moved from notebook\n",
    "from data_processing_helpers import load_permutation_data, get_available_permutations, extract_improved_edge_features_and_labels\n",
    "from optimized_model import DistributionAwareNN, OptimizedModelTrainer\n",
    "from unique_sampling import UniqueEdgeSampler\n",
    "from validation_utils import compute_adaptive_degree_based_probability_distribution, compute_enhanced_distribution_difference\n",
    "\n",
    "print(\"All imports successful!\")\n",
    "print(f\"Repository directory: {repo_dir}\")"
   ]
  },
  {
   "cell_type": "code",
   "execution_count": 34,
   "id": "a51a61f5",
   "metadata": {},
   "outputs": [
    {
     "name": "stdout",
     "output_type": "stream",
     "text": [
      "Configuration - BASIC 2D MODEL (Source + Target Degrees Only):\n",
      "  edge_type: CtD\n",
      "  max_permutations: 20\n",
      "  validation_networks: 3\n",
      "  convergence_threshold: 0.2\n",
      "  n_bins: 8\n",
      "  negative_sampling_ratio: 0.5\n",
      "  random_seed: 42\n",
      "  model_types: ['NN', 'RF']\n",
      "  use_normalized_features: False\n",
      "  use_regression_approach: True\n",
      "  use_distribution_loss: True\n",
      "  use_adaptive_binning: True\n",
      "  use_ensemble_methods: True\n",
      "  early_stopping_patience: 3\n",
      "  relative_improvement_threshold: 0.02\n",
      "  use_relative_convergence: True\n",
      "\n",
      "🎯 BASIC 2D MODEL CONFIGURATION:\n",
      "  - FEATURES: Only source_degree + target_degree (2 dimensions)\n",
      "  - NO log transforms, degree products, sums, or ratios\n",
      "  - SIMPLIFIED model to study pure degree effects\n",
      "  - convergence_threshold: 0.2\n",
      "  - negative_sampling_ratio: 0.5\n",
      "  - model_types: ['NN', 'RF']\n",
      "\n",
      "🚀 EXPECTED OUTCOME:\n",
      "  - Focus: Pure effects of source and target node degrees\n",
      "  - Feature interpretability: Direct degree relationships\n",
      "  - Simplified neural network architecture for 2D input\n",
      "  - Clear understanding of degree-based edge prediction\n",
      "\n",
      "Directories:\n",
      "  Data: /projects/lgillenwater@xsede.org/repositories/Context-Aware-Path-Probability/data\n",
      "  Permutations: /projects/lgillenwater@xsede.org/repositories/Context-Aware-Path-Probability/data/permutations\n",
      "  Downloads: /projects/lgillenwater@xsede.org/repositories/Context-Aware-Path-Probability/data/downloads\n",
      "  Output: /projects/lgillenwater@xsede.org/repositories/Context-Aware-Path-Probability/results/minimum_permutations_basic_2d\n"
     ]
    }
   ],
   "source": [
    "# Configuration - OPTION 1: BASIC 2D MODEL (Source + Target Degrees Only)\n",
    "CONFIG = {\n",
    "    'edge_type': 'CtD',  # Compound-treats-Disease\n",
    "    'max_permutations': 20,  # INCREASED - More training data for better convergence\n",
    "    'validation_networks': 3,  # Number of held-out networks for validation\n",
    "    'convergence_threshold': 0.2,  # REALISTIC - Based on achieved performance (~0.55 MAE)\n",
    "    'n_bins': 8,  # INCREASED slightly - Better granularity while maintaining statistics\n",
    "    'negative_sampling_ratio': 0.5,  # Standard ratio for balanced training\n",
    "    'random_seed': 42,\n",
    "    'model_types': ['NN', 'RF'],  # FOCUSED - Best performing models only\n",
    "    'use_normalized_features': False,  # BASIC 2D MODEL - Source and target degrees only\n",
    "    'use_regression_approach': True,\n",
    "    'use_distribution_loss': True,  # NEW - Direct distribution-based training\n",
    "    'use_adaptive_binning': True,   # NEW - Adaptive binning based on data density\n",
    "    'use_ensemble_methods': True,   # NEW - Ensemble of specialized models\n",
    "    'early_stopping_patience': 3,   # NEW - Stop early if no improvement\n",
    "    'relative_improvement_threshold': 0.02,  # NEW - 2% improvement required\n",
    "    'use_relative_convergence': True  # NEW - Use relative improvement criteria\n",
    "}\n",
    "\n",
    "# Set random seeds for reproducibility\n",
    "np.random.seed(CONFIG['random_seed'])\n",
    "torch.manual_seed(CONFIG['random_seed'])\n",
    "\n",
    "# Directory setup\n",
    "data_dir = repo_dir / 'data'\n",
    "permutations_dir = data_dir / 'permutations'\n",
    "downloads_dir = data_dir / 'downloads'\n",
    "models_dir = repo_dir / 'models'\n",
    "output_dir = repo_dir / 'results' / 'minimum_permutations_basic_2d'\n",
    "\n",
    "# Create output directory\n",
    "output_dir.mkdir(parents=True, exist_ok=True)\n",
    "\n",
    "print(\"Configuration - BASIC 2D MODEL (Source + Target Degrees Only):\")\n",
    "for key, value in CONFIG.items():\n",
    "    print(f\"  {key}: {value}\")\n",
    "print(f\"\\n🎯 BASIC 2D MODEL CONFIGURATION:\")\n",
    "print(f\"  - FEATURES: Only source_degree + target_degree (2 dimensions)\")\n",
    "print(f\"  - NO log transforms, degree products, sums, or ratios\")\n",
    "print(f\"  - SIMPLIFIED model to study pure degree effects\")\n",
    "print(f\"  - convergence_threshold: {CONFIG['convergence_threshold']}\")\n",
    "print(f\"  - negative_sampling_ratio: {CONFIG['negative_sampling_ratio']}\")\n",
    "print(f\"  - model_types: {CONFIG['model_types']}\")\n",
    "print(f\"\\n🚀 EXPECTED OUTCOME:\")\n",
    "print(f\"  - Focus: Pure effects of source and target node degrees\")\n",
    "print(f\"  - Feature interpretability: Direct degree relationships\")\n",
    "print(f\"  - Simplified neural network architecture for 2D input\")\n",
    "print(f\"  - Clear understanding of degree-based edge prediction\")\n",
    "print(f\"\\nDirectories:\")\n",
    "print(f\"  Data: {data_dir}\")\n",
    "print(f\"  Permutations: {permutations_dir}\")\n",
    "print(f\"  Downloads: {downloads_dir}\")\n",
    "print(f\"  Output: {output_dir}\")"
   ]
  },
  {
   "cell_type": "code",
   "execution_count": 35,
   "id": "1a569eed",
   "metadata": {},
   "outputs": [
    {
     "name": "stdout",
     "output_type": "stream",
     "text": [
      "Setting up data directories...\n",
      "Original data directory: /projects/lgillenwater@xsede.org/repositories/Context-Aware-Path-Probability/data\n",
      "Permutations directory: /projects/lgillenwater@xsede.org/repositories/Context-Aware-Path-Probability/data/permutations\n",
      "Found 51 permutation directories:\n",
      "  1. 000.hetmat\n",
      "  2. 001.hetmat\n",
      "  3. 002.hetmat\n",
      "  4. 003.hetmat\n",
      "  5. 004.hetmat\n",
      "  ... and 46 more\n",
      "✅ Sufficient permutations available for experiment\n",
      "✅ Original edge data found: /projects/lgillenwater@xsede.org/repositories/Context-Aware-Path-Probability/data/edges/CtD.sparse.npz\n",
      "\n",
      "Directory setup complete!\n"
     ]
    }
   ],
   "source": [
    "# Setup data directories and paths\n",
    "print(\"Setting up data directories...\")\n",
    "\n",
    "# Original data directory (main hetionet data)\n",
    "original_data_dir = data_dir  # Main data directory contains the original network\n",
    "\n",
    "# Find available permutation directories\n",
    "available_permutations = []\n",
    "if permutations_dir.exists():\n",
    "    for perm_dir in permutations_dir.iterdir():\n",
    "        if perm_dir.is_dir() and perm_dir.name.endswith('.hetmat'):\n",
    "            available_permutations.append(perm_dir)\n",
    "\n",
    "# Sort permutations by name to ensure consistent ordering\n",
    "permutations_dirs = sorted(available_permutations)\n",
    "\n",
    "print(f\"Original data directory: {original_data_dir}\")\n",
    "print(f\"Permutations directory: {permutations_dir}\")\n",
    "print(f\"Found {len(permutations_dirs)} permutation directories:\")\n",
    "for i, perm_dir in enumerate(permutations_dirs[:5]):  # Show first 5\n",
    "    print(f\"  {i+1}. {perm_dir.name}\")\n",
    "if len(permutations_dirs) > 5:\n",
    "    print(f\"  ... and {len(permutations_dirs) - 5} more\")\n",
    "\n",
    "# Validate we have enough permutations for the experiment\n",
    "if len(permutations_dirs) < CONFIG['max_permutations']:\n",
    "    print(f\"⚠️  Warning: Only {len(permutations_dirs)} permutations available, but max_permutations = {CONFIG['max_permutations']}\")\n",
    "    print(\"   Will reuse permutations if needed.\")\n",
    "else:\n",
    "    print(f\"✅ Sufficient permutations available for experiment\")\n",
    "\n",
    "# Check if original data exists\n",
    "original_edge_file = original_data_dir / 'edges' / f\"{CONFIG['edge_type']}.sparse.npz\"\n",
    "if original_edge_file.exists():\n",
    "    print(f\"✅ Original edge data found: {original_edge_file}\")\n",
    "else:\n",
    "    print(f\"❌ Original edge data not found: {original_edge_file}\")\n",
    "    print(\"Available edge files:\")\n",
    "    if (original_data_dir / 'edges').exists():\n",
    "        for edge_file in (original_data_dir / 'edges').iterdir():\n",
    "            if edge_file.suffix == '.npz':\n",
    "                print(f\"  - {edge_file.name}\")\n",
    "\n",
    "print(\"\\nDirectory setup complete!\")"
   ]
  },
  {
   "cell_type": "code",
   "execution_count": null,
   "id": "a9318dc2",
   "metadata": {},
   "outputs": [
    {
     "name": "stdout",
     "output_type": "stream",
     "text": [
      "Testing improved data loading...\n",
      "Available permutations: ['000.hetmat', '001.hetmat', '002.hetmat', '003.hetmat', '004.hetmat', '005.hetmat', '006.hetmat', '007.hetmat', '008.hetmat', '009.hetmat', '010.hetmat', '011.hetmat', '012.hetmat', '013.hetmat', '014.hetmat', '015.hetmat', '016.hetmat', '017.hetmat', '018.hetmat', '019.hetmat', '020.hetmat', '021.hetmat', '022.hetmat', '023.hetmat', '024.hetmat', '025.hetmat', '026.hetmat', '027.hetmat', '028.hetmat', '029.hetmat', '030.hetmat', '031.hetmat', '032.hetmat', '033.hetmat', '034.hetmat', '035.hetmat', '036.hetmat', '037.hetmat', '038.hetmat', '039.hetmat', '040.hetmat', '041.hetmat', '042.hetmat', '043.hetmat', '044.hetmat', '045.hetmat', '046.hetmat', '047.hetmat', '048.hetmat', '049.hetmat', '050.hetmat']\n",
      "\n",
      "Test permutation: 000.hetmat\n",
      "Edge matrix shape: (1552, 137)\n",
      "Number of edges: 755\n",
      "Edge density: 0.003551\n",
      "Source node degree range: 0 - 19\n",
      "Target node degree range: 0 - 68\n",
      "\n",
      "Improved Features:\n",
      "  Features shape: (1132, 2)\n",
      "  Targets shape: (1132,)\n",
      "  Feature types: Basic (2 features)\n",
      "  Target type: Regression\n",
      "  Positive samples: 755, Negative samples: 377\n",
      "  Target range: 0.000 - 1.000\n"
     ]
    }
   ],
   "source": [
    "# Functions moved to src/data_processing_helpers.py\n",
    "# See: load_permutation_data, get_available_permutations, extract_improved_edge_features_and_labels"
   ]
  },
  {
   "cell_type": "code",
   "execution_count": null,
   "id": "265013d7",
   "metadata": {},
   "outputs": [],
   "source": [
    "# Classes moved to src/optimized_model.py\n",
    "# See: DistributionAwareNN, OptimizedModelTrainer"
   ]
  },
  {
   "cell_type": "code",
   "execution_count": null,
   "id": "fc2feb78",
   "metadata": {},
   "outputs": [
    {
     "name": "stdout",
     "output_type": "stream",
     "text": [
      "Setting up optimized validation framework...\n",
      "Loaded validation network: 151.hetmat\n",
      "Loaded validation network: 015.hetmat\n",
      "Loaded validation network: 098.hetmat\n",
      "Loaded 3 validation networks\n"
     ]
    }
   ],
   "source": [
    "# Functions moved to src/validation_utils.py\n",
    "# See: compute_adaptive_degree_based_probability_distribution, compute_enhanced_distribution_difference"
   ]
  },
  {
   "cell_type": "code",
   "execution_count": null,
   "id": "e073f329",
   "metadata": {},
   "outputs": [
    {
     "name": "stdout",
     "output_type": "stream",
     "text": [
      "Testing improved Unique Edge Sampling approach...\n",
      "\\nTesting unique sampling with permutations: [PosixPath('/projects/lgillenwater@xsede.org/repositories/Context-Aware-Path-Probability/data/permutations/014.hetmat'), PosixPath('/projects/lgillenwater@xsede.org/repositories/Context-Aware-Path-Probability/data/permutations/044.hetmat')]\n",
      "Sampling unique edges from 2 permutations...\n",
      "  Loading /projects/lgillenwater@xsede.org/repositories/Context-Aware-Path-Probability/data/permutations/014.hetmat (1/2)...\n",
      "    Found 755 positive edges, 755 are unique\n",
      "  Loading /projects/lgillenwater@xsede.org/repositories/Context-Aware-Path-Probability/data/permutations/044.hetmat (2/2)...\n",
      "    Found 755 positive edges, 654 are unique\n",
      "\\nUnique positive edges summary:\n",
      "  Total positive edges attempted: 1,510\n",
      "  Unique positive edges found: 1,409\n",
      "  Positive deduplication rate: 6.7%\n",
      "\\nBuilding features for 1409 unique positive edges...\n",
      "Generating 1409 negative edges...\n",
      "  Generated 1409 negative edges\n",
      "\\nFinal dataset composition:\n",
      "  Total samples: 2,818\n",
      "  Feature dimensions: 2\n",
      "  Positive samples: 1,409\n",
      "  Negative samples: 1,409\n",
      "  Positive/Negative ratio: 1.00\n",
      "  Unique positive edges per permutation:\n",
      "    /projects/lgillenwater@xsede.org/repositories/Context-Aware-Path-Probability/data/permutations/014.hetmat: 755 edges\n",
      "    /projects/lgillenwater@xsede.org/repositories/Context-Aware-Path-Probability/data/permutations/044.hetmat: 654 edges\n",
      "✓ Improved unique edge sampling successful!\n",
      "  Dataset shape: (2818, 2)\n",
      "  Positive edges: 1,409\n",
      "  Negative edges: 1,409\n"
     ]
    }
   ],
   "source": [
    "# Class moved to src/unique_sampling.py\n",
    "# See: UniqueEdgeSampler"
   ]
  }
 ],
 "metadata": {
  "kernelspec": {
   "display_name": "CAPP",
   "language": "python",
   "name": "python3"
  },
  "language_info": {
   "codemirror_mode": {
    "name": "ipython",
    "version": 3
   },
   "file_extension": ".py",
   "mimetype": "text/x-python",
   "name": "python",
   "nbconvert_exporter": "python",
   "pygments_lexer": "ipython3",
   "version": "3.10.18"
  }
 },
 "nbformat": 4,
 "nbformat_minor": 5
}
