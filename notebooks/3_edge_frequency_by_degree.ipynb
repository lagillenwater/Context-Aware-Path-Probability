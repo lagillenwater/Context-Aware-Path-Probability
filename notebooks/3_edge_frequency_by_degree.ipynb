{
 "cells": [
  {
   "cell_type": "markdown",
   "id": "7c2c7b48",
   "metadata": {},
   "source": [
    "# Edge Frequency by Source and Target Degree Across Permuted Networks\n",
    "\n",
    "This notebook computes the frequency of edge presence for each (source degree, target degree) pair across 200 permuted networks in `data/downloads/hetionet-permutations/permutations`. The result is a summary of how often an edge appears for each degree pair, which can be used for downstream analysis or visualization."
   ]
  },
  {
   "cell_type": "code",
   "execution_count": null,
   "id": "be75ab07",
   "metadata": {},
   "outputs": [],
   "source": [
    "# Import required libraries\n",
    "import os\n",
    "import numpy as np\n",
    "import scipy.sparse as sp\n",
    "from collections import defaultdict\n",
    "import pandas as pd"
   ]
  },
  {
   "cell_type": "code",
   "execution_count": null,
   "id": "0c679d55",
   "metadata": {},
   "outputs": [],
   "source": [
    "# Set the path to the permutation directories and edge file type\n",
    "perm_dir = \"data/downloads/hetionet-permutations/permutations\"\n",
    "edge_file = \"AeG.sparse.npz\"  # Change to your edge type if needed"
   ]
  },
  {
   "cell_type": "code",
   "execution_count": null,
   "id": "051b1c74",
   "metadata": {},
   "outputs": [],
   "source": [
    "# Find all permutation folders\n",
    "perm_folders = sorted([os.path.join(perm_dir, d) for d in os.listdir(perm_dir) if d.endswith('.hetmat')])\n",
    "print(f\"Found {len(perm_folders)} permutation folders.\")"
   ]
  },
  {
   "cell_type": "code",
   "execution_count": null,
   "id": "a67d7395",
   "metadata": {},
   "outputs": [],
   "source": [
    "# Initialize dictionaries to count edge presence and total possible pairs\n",
    "freq = defaultdict(int)\n",
    "total_counts = defaultdict(int)"
   ]
  },
  {
   "cell_type": "code",
   "execution_count": null,
   "id": "f7815171",
   "metadata": {},
   "outputs": [],
   "source": [
    "# Iterate through permutations and count edge frequencies by degree pair\n",
    "for perm_path in perm_folders:\n",
    "    edge_path = os.path.join(perm_path, \"edges\", edge_file)\n",
    "    if not os.path.exists(edge_path):\n",
    "        continue\n",
    "    adj = sp.load_npz(edge_path)\n",
    "    src_degrees = np.array(adj.sum(axis=1)).flatten()\n",
    "    tgt_degrees = np.array(adj.sum(axis=0)).flatten()\n",
    "    src_nodes, tgt_nodes = adj.nonzero()\n",
    "    for s, t in zip(src_nodes, tgt_nodes):\n",
    "        s_deg = src_degrees[s]\n",
    "        t_deg = tgt_degrees[t]\n",
    "        freq[(s_deg, t_deg)] += 1\n",
    "    for s in range(adj.shape[0]):\n",
    "        for t in range(adj.shape[1]):\n",
    "            total_counts[(src_degrees[s], tgt_degrees[t])] += 1"
   ]
  },
  {
   "cell_type": "code",
   "execution_count": null,
   "id": "9b790e27",
   "metadata": {},
   "outputs": [],
   "source": [
    "# Compute frequency (fraction of permutations with edge present)\n",
    "freq_matrix = {k: freq[k] / total_counts[k] for k in freq}\n",
    "\n",
    "# Convert to DataFrame for easier analysis\n",
    "freq_df = pd.DataFrame([\n",
    "    {'source_degree': k[0], 'target_degree': k[1], 'frequency': v}\n",
    "    for k, v in freq_matrix.items()\n",
    "])\n",
    "\n",
    "# Show top 10 most frequent degree pairs\n",
    "freq_df.sort_values('frequency', ascending=False).head(10)"
   ]
  }
 ],
 "metadata": {
  "language_info": {
   "name": "python"
  }
 },
 "nbformat": 4,
 "nbformat_minor": 5
}
