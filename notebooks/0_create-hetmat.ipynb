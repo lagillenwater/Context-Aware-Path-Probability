{
 "cells": [
  {
   "cell_type": "markdown",
   "id": "435e2e31",
   "metadata": {
    "papermill": {
     "duration": 0.005419,
     "end_time": "2025-09-10T14:33:15.119583",
     "exception": false,
     "start_time": "2025-09-10T14:33:15.114164",
     "status": "completed"
    },
    "tags": []
   },
   "source": [
    "# Export Hetionet v1.0 to hetmat format"
   ]
  },
  {
   "cell_type": "code",
   "execution_count": 1,
   "id": "9bcaf392",
   "metadata": {
    "execution": {
     "iopub.execute_input": "2025-09-10T14:33:15.129344Z",
     "iopub.status.busy": "2025-09-10T14:33:15.129181Z",
     "iopub.status.idle": "2025-09-10T14:33:34.666615Z",
     "shell.execute_reply": "2025-09-10T14:33:34.666129Z"
    },
    "papermill": {
     "duration": 19.543398,
     "end_time": "2025-09-10T14:33:34.667747",
     "exception": false,
     "start_time": "2025-09-10T14:33:15.124349",
     "status": "completed"
    },
    "tags": []
   },
   "outputs": [],
   "source": [
    "# Import all required libraries\n",
    "import os\n",
    "\n",
    "# Domain-specific libraries\n",
    "import hetnetpy.readwrite\n",
    "import hetmatpy.hetmat\n",
    "import hetmatpy.hetmat.archive"
   ]
  },
  {
   "cell_type": "code",
   "execution_count": 2,
   "id": "b75e44b1",
   "metadata": {
    "execution": {
     "iopub.execute_input": "2025-09-10T14:33:34.678326Z",
     "iopub.status.busy": "2025-09-10T14:33:34.678075Z",
     "iopub.status.idle": "2025-09-10T14:34:38.136653Z",
     "shell.execute_reply": "2025-09-10T14:34:38.136160Z"
    },
    "papermill": {
     "duration": 63.464803,
     "end_time": "2025-09-10T14:34:38.137821",
     "exception": false,
     "start_time": "2025-09-10T14:33:34.673018",
     "status": "completed"
    },
    "tags": []
   },
   "outputs": [],
   "source": [
    "# Read Hetionet v1.0\n",
    "url = \"https://github.com/dhimmel/hetionet/raw/76550e6c93fbe92124edc71725e8c7dd4ca8b1f5/hetnet/json/hetionet-v1.0.json.bz2\"\n",
    "graph = hetnetpy.readwrite.read_graph(url)"
   ]
  },
  {
   "cell_type": "code",
   "execution_count": 3,
   "id": "01c89ce7",
   "metadata": {
    "execution": {
     "iopub.execute_input": "2025-09-10T14:34:38.148802Z",
     "iopub.status.busy": "2025-09-10T14:34:38.148604Z",
     "iopub.status.idle": "2025-09-10T14:34:46.910619Z",
     "shell.execute_reply": "2025-09-10T14:34:46.910121Z"
    },
    "papermill": {
     "duration": 8.767926,
     "end_time": "2025-09-10T14:34:46.911683",
     "exception": false,
     "start_time": "2025-09-10T14:34:38.143757",
     "status": "completed"
    },
    "tags": []
   },
   "outputs": [],
   "source": [
    "path = os.path.join(\"..\", \"data\")\n",
    "os.makedirs(path, exist_ok=True)\n",
    "\n",
    "path = \"../data\"\n",
    "hetmat = hetmatpy.hetmat.hetmat_from_graph(graph, path)"
   ]
  },
  {
   "cell_type": "code",
   "execution_count": 4,
   "id": "52fe3262",
   "metadata": {
    "execution": {
     "iopub.execute_input": "2025-09-10T14:34:46.921492Z",
     "iopub.status.busy": "2025-09-10T14:34:46.921267Z",
     "iopub.status.idle": "2025-09-10T14:34:46.926730Z",
     "shell.execute_reply": "2025-09-10T14:34:46.926358Z"
    },
    "papermill": {
     "duration": 0.010742,
     "end_time": "2025-09-10T14:34:46.927394",
     "exception": false,
     "start_time": "2025-09-10T14:34:46.916652",
     "status": "completed"
    },
    "tags": []
   },
   "outputs": [
    {
     "data": {
      "text/plain": [
       "['Anatomy',\n",
       " 'Disease',\n",
       " 'Molecular Function',\n",
       " 'Symptom',\n",
       " 'Cellular Component',\n",
       " 'Gene',\n",
       " 'Pathway',\n",
       " 'Biological Process',\n",
       " 'Side Effect',\n",
       " 'Pharmacologic Class',\n",
       " 'Compound']"
      ]
     },
     "execution_count": 4,
     "metadata": {},
     "output_type": "execute_result"
    }
   ],
   "source": [
    "# Get lists of metanodes and metaedges\n",
    "metanodes = list(hetmat.metagraph.get_nodes())\n",
    "metaedges = list(hetmat.metagraph.get_edges(exclude_inverts=True))\n",
    "list(map(str, metanodes))"
   ]
  },
  {
   "cell_type": "markdown",
   "id": "7088d4c5",
   "metadata": {
    "papermill": {
     "duration": 0.004217,
     "end_time": "2025-09-10T14:34:46.936224",
     "exception": false,
     "start_time": "2025-09-10T14:34:46.932007",
     "status": "completed"
    },
    "tags": []
   },
   "source": [
    "## Demonstrate metaedge_to_adjacency_matrix"
   ]
  },
  {
   "cell_type": "code",
   "execution_count": 5,
   "id": "4e30da29",
   "metadata": {
    "execution": {
     "iopub.execute_input": "2025-09-10T14:34:46.945256Z",
     "iopub.status.busy": "2025-09-10T14:34:46.945066Z",
     "iopub.status.idle": "2025-09-10T14:34:47.034549Z",
     "shell.execute_reply": "2025-09-10T14:34:47.034188Z"
    },
    "papermill": {
     "duration": 0.094893,
     "end_time": "2025-09-10T14:34:47.035276",
     "exception": false,
     "start_time": "2025-09-10T14:34:46.940383",
     "status": "completed"
    },
    "tags": []
   },
   "outputs": [
    {
     "data": {
      "text/plain": [
       "array([[False, False, False, False, False],\n",
       "       [False, False, False, False, False],\n",
       "       [False, False, False, False, False],\n",
       "       [False, False, False, False, False],\n",
       "       [False, False, False, False, False]])"
      ]
     },
     "execution_count": 5,
     "metadata": {},
     "output_type": "execute_result"
    }
   ],
   "source": [
    "rows, cols, matrix = hetmat.metaedge_to_adjacency_matrix(\"CtD\", dense_threshold=0)\n",
    "matrix[:5, :5]"
   ]
  },
  {
   "cell_type": "code",
   "execution_count": 6,
   "id": "993c7a42",
   "metadata": {
    "execution": {
     "iopub.execute_input": "2025-09-10T14:34:47.045757Z",
     "iopub.status.busy": "2025-09-10T14:34:47.045458Z",
     "iopub.status.idle": "2025-09-10T14:34:47.049165Z",
     "shell.execute_reply": "2025-09-10T14:34:47.048750Z"
    },
    "papermill": {
     "duration": 0.009525,
     "end_time": "2025-09-10T14:34:47.049870",
     "exception": false,
     "start_time": "2025-09-10T14:34:47.040345",
     "status": "completed"
    },
    "tags": []
   },
   "outputs": [
    {
     "data": {
      "text/plain": [
       "np.float64(0.0035508691398901345)"
      ]
     },
     "execution_count": 6,
     "metadata": {},
     "output_type": "execute_result"
    }
   ],
   "source": [
    "# Density\n",
    "matrix.mean()"
   ]
  },
  {
   "cell_type": "code",
   "execution_count": 7,
   "id": "78dabe31",
   "metadata": {
    "execution": {
     "iopub.execute_input": "2025-09-10T14:34:47.059390Z",
     "iopub.status.busy": "2025-09-10T14:34:47.059151Z",
     "iopub.status.idle": "2025-09-10T14:34:47.062519Z",
     "shell.execute_reply": "2025-09-10T14:34:47.062166Z"
    },
    "papermill": {
     "duration": 0.009018,
     "end_time": "2025-09-10T14:34:47.063184",
     "exception": false,
     "start_time": "2025-09-10T14:34:47.054166",
     "status": "completed"
    },
    "tags": []
   },
   "outputs": [
    {
     "data": {
      "text/plain": [
       "(['DB00014', 'DB00035', 'DB00050', 'DB00091', 'DB00093'],\n",
       " ['DOID:0050156',\n",
       "  'DOID:0050425',\n",
       "  'DOID:0050741',\n",
       "  'DOID:0050742',\n",
       "  'DOID:0060073'])"
      ]
     },
     "execution_count": 7,
     "metadata": {},
     "output_type": "execute_result"
    }
   ],
   "source": [
    "# row and column identities\n",
    "rows[:5], cols[:5]"
   ]
  }
 ],
 "metadata": {
  "kernelspec": {
   "display_name": "dwpc_rnn_clean",
   "language": "python",
   "name": "python3"
  },
  "language_info": {
   "codemirror_mode": {
    "name": "ipython",
    "version": 3
   },
   "file_extension": ".py",
   "mimetype": "text/x-python",
   "name": "python",
   "nbconvert_exporter": "python",
   "pygments_lexer": "ipython3",
   "version": "3.10.18"
  },
  "papermill": {
   "default_parameters": {},
   "duration": 107.230528,
   "end_time": "2025-09-10T14:34:49.983385",
   "environment_variables": {},
   "exception": null,
   "input_path": "/projects/lgillenwater@xsede.org/repositories/Context-Aware-Path-Probability/notebooks/0_create-hetmat.ipynb",
   "output_path": "/projects/lgillenwater@xsede.org/repositories/Context-Aware-Path-Probability/notebooks/0_create-hetmat.ipynb",
   "parameters": {},
   "start_time": "2025-09-10T14:33:02.752857",
   "version": "2.6.0"
  }
 },
 "nbformat": 4,
 "nbformat_minor": 5
}