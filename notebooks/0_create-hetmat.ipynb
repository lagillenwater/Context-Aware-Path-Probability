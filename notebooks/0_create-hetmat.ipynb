{
 "cells": [
  {
   "cell_type": "markdown",
   "id": "435e2e31",
   "metadata": {
    "papermill": {
     "duration": 0.004969,
     "end_time": "2025-08-29T16:54:06.735457",
     "exception": false,
     "start_time": "2025-08-29T16:54:06.730488",
     "status": "completed"
    },
    "tags": []
   },
   "source": [
    "# Export Hetionet v1.0 to hetmat format"
   ]
  },
  {
   "cell_type": "markdown",
   "id": "dfd03f16",
   "metadata": {},
   "source": [
    "## Summary\n",
    "\n",
    "This notebook downloads and processes the Hetionet v1.0 biological knowledge graph, converting it from JSON format to the hetmat format for efficient matrix operations and analysis.\n",
    "\n",
    "**Key Steps:**\n",
    "1. **Download Hetionet v1.0**: Retrieves the biological knowledge graph from GitHub containing relationships between genes, diseases, compounds, anatomy, and other biological entities\n",
    "2. **Convert to hetmat format**: Transforms the graph into a matrix representation optimized for machine learning and network analysis\n",
    "3. **Export data structure**: Saves the hetmat files to the `../data/` directory for use in downstream analysis\n",
    "4. **Demonstrate matrix operations**: Shows how to extract adjacency matrices for specific relationship types (e.g., Compound-treats-Disease relationships)\n",
    "\n",
    "**Output**: Creates the foundational data structure in `../data/` that subsequent notebooks will use for permutation generation and edge prediction modeling."
   ]
  },
  {
   "cell_type": "code",
   "execution_count": 1,
   "id": "9bcaf392",
   "metadata": {
    "execution": {
     "iopub.execute_input": "2025-08-29T16:54:06.745080Z",
     "iopub.status.busy": "2025-08-29T16:54:06.744921Z",
     "iopub.status.idle": "2025-08-29T16:54:12.213190Z",
     "shell.execute_reply": "2025-08-29T16:54:12.212765Z"
    },
    "papermill": {
     "duration": 5.474951,
     "end_time": "2025-08-29T16:54:12.214296",
     "exception": false,
     "start_time": "2025-08-29T16:54:06.739345",
     "status": "completed"
    },
    "tags": []
   },
   "outputs": [],
   "source": [
    "# Import all required libraries\n",
    "import os\n",
    "\n",
    "# Domain-specific libraries\n",
    "import hetnetpy.readwrite\n",
    "import hetmatpy.hetmat\n",
    "import hetmatpy.hetmat.archive"
   ]
  },
  {
   "cell_type": "code",
   "execution_count": 2,
   "id": "b75e44b1",
   "metadata": {
    "execution": {
     "iopub.execute_input": "2025-08-29T16:54:12.225784Z",
     "iopub.status.busy": "2025-08-29T16:54:12.225580Z",
     "iopub.status.idle": "2025-08-29T16:55:04.549640Z",
     "shell.execute_reply": "2025-08-29T16:55:04.548816Z"
    },
    "papermill": {
     "duration": 52.32957,
     "end_time": "2025-08-29T16:55:04.550703",
     "exception": false,
     "start_time": "2025-08-29T16:54:12.221133",
     "status": "completed"
    },
    "tags": []
   },
   "outputs": [],
   "source": [
    "# Read Hetionet v1.0\n",
    "url = \"https://github.com/dhimmel/hetionet/raw/76550e6c93fbe92124edc71725e8c7dd4ca8b1f5/hetnet/json/hetionet-v1.0.json.bz2\"\n",
    "graph = hetnetpy.readwrite.read_graph(url)"
   ]
  },
  {
   "cell_type": "code",
   "execution_count": 3,
   "id": "01c89ce7",
   "metadata": {
    "execution": {
     "iopub.execute_input": "2025-08-29T16:55:04.565118Z",
     "iopub.status.busy": "2025-08-29T16:55:04.564964Z",
     "iopub.status.idle": "2025-08-29T16:55:11.898221Z",
     "shell.execute_reply": "2025-08-29T16:55:11.897777Z"
    },
    "papermill": {
     "duration": 7.342103,
     "end_time": "2025-08-29T16:55:11.899217",
     "exception": false,
     "start_time": "2025-08-29T16:55:04.557114",
     "status": "completed"
    },
    "tags": []
   },
   "outputs": [],
   "source": [
    "path = os.path.join(\"..\", \"data\")\n",
    "os.makedirs(path, exist_ok=True)\n",
    "\n",
    "hetmat = hetmatpy.hetmat.hetmat_from_graph(graph, path)"
   ]
  },
  {
   "cell_type": "markdown",
   "id": "c5d9cc18",
   "metadata": {},
   "source": [
    "## Validation: Check Expected Outputs\n"
   ]
  },
  {
   "cell_type": "code",
   "execution_count": 31,
   "id": "cb047769",
   "metadata": {},
   "outputs": [
    {
     "name": "stdout",
     "output_type": "stream",
     "text": [
      "Validation: Hetmat Creation and Data Export\n",
      "  Hetmat type: <class 'hetmatpy.hetmat.HetMat'>\n",
      "  Metanodes: ['Anatomy', 'Biological Process', 'Cellular Component', 'Compound', 'Disease', 'Gene', 'Molecular Function', 'Pathway', 'Pharmacologic Class', 'Side Effect', 'Symptom']\n",
      "   PASSED: Found all 11 expected metanodes\n",
      "  Metaedges: ['Anatomy - downregulates - Gene', 'Anatomy - expresses - Gene', 'Anatomy - upregulates - Gene', 'Compound - binds - Gene', 'Compound - causes - Side Effect', 'Compound - downregulates - Gene', 'Compound - palliates - Disease', 'Compound - resembles - Compound', 'Compound - treats - Disease', 'Compound - upregulates - Gene', 'Disease - associates - Gene', 'Disease - downregulates - Gene', 'Disease - localizes - Anatomy', 'Disease - presents - Symptom', 'Disease - resembles - Disease', 'Disease - upregulates - Gene', 'Gene - covaries - Gene', 'Gene - interacts - Gene', 'Gene - participates - Biological Process', 'Gene - participates - Cellular Component', 'Gene - participates - Molecular Function', 'Gene - participates - Pathway', 'Gene > regulates > Gene', 'Pharmacologic Class - includes - Compound']\n",
      "   PASSED: Found 24 metaedges as expected\n",
      "   PASSED: Hetmat created and data exported to ../data\n",
      "   PASSED: Required files/directories present: ['metagraph.json', 'nodes', 'edges']\n"
     ]
    }
   ],
   "source": [
    "# Validation for Cell 5: Check hetmat data structure was created and saved\n",
    "print(\"Validation: Hetmat Creation and Data Export\")\n",
    "print(f\"  Hetmat type: {type(hetmat)}\")\n",
    "\n",
    "\n",
    "# Expected metanodes for Hetionet v1.0\n",
    "expected_metanodes = {\n",
    "    'Gene', 'Disease', 'Compound', 'Biological Process', 'Molecular Function',\n",
    "    'Symptom', 'Pharmacologic Class', 'Anatomy', 'Pathway', 'Cellular Component', 'Side Effect'\n",
    "}\n",
    "metanode_names = set(str(node) for node in metanodes)\n",
    "print(f\"  Metanodes: {sorted(metanode_names)}\")\n",
    "assert len(metanodes) == 11, f\"Expected 11 metanodes, got {len(metanodes)}\"\n",
    "assert metanode_names == expected_metanodes, f\"Metanode names don't match expected set\"\n",
    "print(f\"   PASSED: Found all {len(expected_metanodes)} expected metanodes\")\n",
    "\n",
    "# Expected number of metaedges (directional relationships)\n",
    "expected_metaedge_count = 24\n",
    "metaedge_names = sorted(str(edge) for edge in metaedges)\n",
    "print(f\"  Metaedges: {metaedge_names}\")\n",
    "assert len(metaedges) == expected_metaedge_count, f\"Expected {expected_metaedge_count} metaedges, got {len(metaedges)}\"\n",
    "\n",
    "\n",
    "print(f\"   PASSED: Found {len(metaedges)} metaedges as expected\")\n",
    "\n",
    "\n",
    "\n",
    "assert os.path.exists(path), f\"Data directory {path} not found\"\n",
    "\n",
    "# Check for key hetmat files\n",
    "expected_files = [\"metagraph.json\", \"nodes\", \"edges\"]\n",
    "for file_name in expected_files:\n",
    "    file_path = os.path.join(path, file_name)\n",
    "    assert os.path.exists(file_path), f\"Expected file/directory {file_path} not found\"\n",
    "\n",
    "print(f\"   PASSED: Hetmat created and data exported to {path}\")\n",
    "print(f\"   PASSED: Required files/directories present: {expected_files}\")"
   ]
  }
 ],
 "metadata": {
  "kernelspec": {
   "display_name": "CAPP",
   "language": "python",
   "name": "python3"
  },
  "language_info": {
   "codemirror_mode": {
    "name": "ipython",
    "version": 3
   },
   "file_extension": ".py",
   "mimetype": "text/x-python",
   "name": "python",
   "nbconvert_exporter": "python",
   "pygments_lexer": "ipython3",
   "version": "3.10.18"
  },
  "papermill": {
   "default_parameters": {},
   "duration": 75.514026,
   "end_time": "2025-08-29T16:55:14.833077",
   "environment_variables": {},
   "exception": null,
   "input_path": "/projects/lgillenwater@xsede.org/dwpc_rnn/notebooks/01.create-hetmat.ipynb",
   "output_path": "/projects/lgillenwater@xsede.org/dwpc_rnn/notebooks/01.create-hetmat.ipynb",
   "parameters": {},
   "start_time": "2025-08-29T16:53:59.319051",
   "version": "2.6.0"
  }
 },
 "nbformat": 4,
 "nbformat_minor": 5
}
