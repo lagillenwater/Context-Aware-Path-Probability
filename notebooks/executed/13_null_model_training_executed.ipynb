{
 "cells": [
  {
   "cell_type": "markdown",
   "id": "a7da8def",
   "metadata": {
    "papermill": {
     "duration": 0.007349,
     "end_time": "2025-10-08T07:03:34.517451",
     "exception": false,
     "start_time": "2025-10-08T07:03:34.510102",
     "status": "completed"
    },
    "tags": []
   },
   "source": [
    "# Null Model Training\n",
    "\n",
    "This notebook trains ML models on null networks (degree-preserving permutations) to create degree-aware null models.\n",
    "\n",
    "## Purpose\n",
    "\n",
    "Train models that predict edge probabilities based **only** on degree structure (no biological signal):\n",
    "- **Training data**: Permutations 1-20 (null networks)\n",
    "- **Validation data**: Permutations 21-30 (held-out nulls)\n",
    "- **Test data**: Hetionet (perm 0) vs validation nulls\n",
    "\n",
    "## Key Features\n",
    "\n",
    "- **No data leakage**: Hetionet never seen during training\n",
    "- **Two models**: Polynomial Logistic Regression (fast) + Random Forest (accurate)\n",
    "- **Error analysis**: Performance stratified by degree bins\n",
    "- **All 24 edge types**: Complete null model library\n",
    "\n",
    "## Workflow\n",
    "\n",
    "1. Load null edge frequencies (perms 1-20)\n",
    "2. Train Polynomial LogReg and Random Forest\n",
    "3. Validate on held-out nulls (perms 21-30)\n",
    "4. Error analysis by degree\n",
    "5. Save models and validation results"
   ]
  },
  {
   "cell_type": "code",
   "execution_count": 1,
   "id": "55f96846",
   "metadata": {
    "execution": {
     "iopub.execute_input": "2025-10-08T07:03:34.529695Z",
     "iopub.status.busy": "2025-10-08T07:03:34.529433Z",
     "iopub.status.idle": "2025-10-08T07:03:34.536746Z",
     "shell.execute_reply": "2025-10-08T07:03:34.536312Z"
    },
    "papermill": {
     "duration": 0.014123,
     "end_time": "2025-10-08T07:03:34.537525",
     "exception": false,
     "start_time": "2025-10-08T07:03:34.523402",
     "status": "completed"
    },
    "tags": []
   },
   "outputs": [],
   "source": [
    "# Papermill parameters\n",
    "training_perm_range = (1, 21)  # Permutations 1-20 for training\n",
    "validation_perm_range = (21, 31)  # Permutations 21-30 for validation\n",
    "edge_types_to_process = None  # None = all 24 edge types"
   ]
  },
  {
   "cell_type": "code",
   "execution_count": 2,
   "id": "34d4079c",
   "metadata": {
    "execution": {
     "iopub.execute_input": "2025-10-08T07:03:34.550638Z",
     "iopub.status.busy": "2025-10-08T07:03:34.550430Z",
     "iopub.status.idle": "2025-10-08T07:03:49.843058Z",
     "shell.execute_reply": "2025-10-08T07:03:49.842523Z"
    },
    "papermill": {
     "duration": 15.299729,
     "end_time": "2025-10-08T07:03:49.844094",
     "exception": false,
     "start_time": "2025-10-08T07:03:34.544365",
     "status": "completed"
    },
    "tags": []
   },
   "outputs": [
    {
     "name": "stdout",
     "output_type": "stream",
     "text": [
      "Repository directory: /projects/lgillenwater@xsede.org/repositories/Context-Aware-Path-Probability\n",
      "Data directory: /projects/lgillenwater@xsede.org/repositories/Context-Aware-Path-Probability/data\n",
      "Results will be saved to: /projects/lgillenwater@xsede.org/repositories/Context-Aware-Path-Probability/results/null_models\n"
     ]
    }
   ],
   "source": [
    "import sys\n",
    "from pathlib import Path\n",
    "import numpy as np\n",
    "import pandas as pd\n",
    "import matplotlib.pyplot as plt\n",
    "import seaborn as sns\n",
    "import scipy.sparse as sp\n",
    "from sklearn.preprocessing import PolynomialFeatures\n",
    "from sklearn.linear_model import Ridge\n",
    "from sklearn.ensemble import RandomForestRegressor\n",
    "from scipy.stats import pearsonr\n",
    "import joblib\n",
    "import warnings\n",
    "warnings.filterwarnings('ignore')\n",
    "\n",
    "# Setup paths\n",
    "repo_dir = Path.cwd()\n",
    "data_dir = repo_dir / 'data'\n",
    "results_dir = repo_dir / 'results' / 'null_models'\n",
    "results_dir.mkdir(parents=True, exist_ok=True)\n",
    "\n",
    "print(f\"Repository directory: {repo_dir}\")\n",
    "print(f\"Data directory: {data_dir}\")\n",
    "print(f\"Results will be saved to: {results_dir}\")\n",
    "\n",
    "# Set plot style\n",
    "sns.set_style('whitegrid')\n",
    "plt.rcParams['figure.dpi'] = 100"
   ]
  },
  {
   "cell_type": "markdown",
   "id": "b11f9a06",
   "metadata": {
    "papermill": {
     "duration": 0.005794,
     "end_time": "2025-10-08T07:03:49.855671",
     "exception": false,
     "start_time": "2025-10-08T07:03:49.849877",
     "status": "completed"
    },
    "tags": []
   },
   "source": [
    "## 1. Define Edge Types and Helper Functions"
   ]
  },
  {
   "cell_type": "code",
   "execution_count": 3,
   "id": "3e4186a6",
   "metadata": {
    "execution": {
     "iopub.execute_input": "2025-10-08T07:03:49.869296Z",
     "iopub.status.busy": "2025-10-08T07:03:49.868839Z",
     "iopub.status.idle": "2025-10-08T07:03:49.873690Z",
     "shell.execute_reply": "2025-10-08T07:03:49.873170Z"
    },
    "papermill": {
     "duration": 0.01202,
     "end_time": "2025-10-08T07:03:49.874435",
     "exception": false,
     "start_time": "2025-10-08T07:03:49.862415",
     "status": "completed"
    },
    "tags": []
   },
   "outputs": [
    {
     "name": "stdout",
     "output_type": "stream",
     "text": [
      "Processing 24 edge types\n",
      "Training permutations: 1-20\n",
      "Validation permutations: 21-30\n"
     ]
    }
   ],
   "source": [
    "# All 24 edge types\n",
    "ALL_EDGE_TYPES = [\n",
    "    \"AdG\", \"AeG\", \"AuG\", \"CbG\", \"CcSE\", \"CdG\", \"CpD\", \"CrC\", \"CtD\", \"CuG\",\n",
    "    \"DaG\", \"DdG\", \"DlA\", \"DpS\", \"DrD\", \"DuG\", \"GcG\", \"GiG\", \"GpBP\", \"GpCC\",\n",
    "    \"GpMF\", \"GpPW\", \"Gr>G\", \"PCiC\"\n",
    "]\n",
    "\n",
    "# Use provided edge_types or default to all\n",
    "if edge_types_to_process is None:\n",
    "    edge_types_to_process = ALL_EDGE_TYPES\n",
    "\n",
    "print(f\"Processing {len(edge_types_to_process)} edge types\")\n",
    "print(f\"Training permutations: {training_perm_range[0]}-{training_perm_range[1]-1}\")\n",
    "print(f\"Validation permutations: {validation_perm_range[0]}-{validation_perm_range[1]-1}\")"
   ]
  },
  {
   "cell_type": "code",
   "execution_count": 4,
   "id": "a22dd7db",
   "metadata": {
    "execution": {
     "iopub.execute_input": "2025-10-08T07:03:49.892417Z",
     "iopub.status.busy": "2025-10-08T07:03:49.892168Z",
     "iopub.status.idle": "2025-10-08T07:03:49.899877Z",
     "shell.execute_reply": "2025-10-08T07:03:49.899446Z"
    },
    "papermill": {
     "duration": 0.020093,
     "end_time": "2025-10-08T07:03:49.900674",
     "exception": false,
     "start_time": "2025-10-08T07:03:49.880581",
     "status": "completed"
    },
    "tags": []
   },
   "outputs": [],
   "source": [
    "def load_null_edge_frequencies(edge_type, perm_ids, negative_sample_ratio=0.1):\n",
    "    \"\"\"\n",
    "    Load and aggregate edge frequencies from null permutations.\n",
    "    \n",
    "    Parameters:\n",
    "    -----------\n",
    "    edge_type : str\n",
    "        Edge type (e.g., 'CbG')\n",
    "    perm_ids : list or range\n",
    "        Permutation IDs to load\n",
    "    negative_sample_ratio : float\n",
    "        Ratio of negative samples to positive samples\n",
    "        \n",
    "    Returns:\n",
    "    --------\n",
    "    pd.DataFrame with columns: source_degree, target_degree, edge_probability\n",
    "    \"\"\"\n",
    "    all_pairs = []\n",
    "    \n",
    "    for perm_id in perm_ids:\n",
    "        edge_file = data_dir / 'permutations' / f'{perm_id:03d}.hetmat' / 'edges' / f'{edge_type}.sparse.npz'\n",
    "        \n",
    "        if not edge_file.exists():\n",
    "            print(f\"  Warning: File not found: {edge_file}\")\n",
    "            continue\n",
    "        \n",
    "        # Load edge matrix\n",
    "        matrix = sp.load_npz(str(edge_file))\n",
    "        source_degrees = np.array(matrix.sum(axis=1)).flatten()\n",
    "        target_degrees = np.array(matrix.sum(axis=0)).flatten()\n",
    "        \n",
    "        # Positive examples (edges)\n",
    "        for i, j in zip(*matrix.nonzero()):\n",
    "            all_pairs.append({\n",
    "                'source_degree': int(source_degrees[i]),\n",
    "                'target_degree': int(target_degrees[j]),\n",
    "                'edge_exists': 1\n",
    "            })\n",
    "        \n",
    "        # Negative examples (sample non-edges)\n",
    "        n_nodes_source, n_nodes_target = matrix.shape\n",
    "        n_negatives = int(matrix.nnz * negative_sample_ratio)\n",
    "        \n",
    "        sampled = 0\n",
    "        attempts = 0\n",
    "        max_attempts = n_negatives * 10\n",
    "        \n",
    "        while sampled < n_negatives and attempts < max_attempts:\n",
    "            i = np.random.randint(0, n_nodes_source)\n",
    "            j = np.random.randint(0, n_nodes_target)\n",
    "            \n",
    "            if matrix[i, j] == 0 and source_degrees[i] > 0 and target_degrees[j] > 0:\n",
    "                all_pairs.append({\n",
    "                    'source_degree': int(source_degrees[i]),\n",
    "                    'target_degree': int(target_degrees[j]),\n",
    "                    'edge_exists': 0\n",
    "                })\n",
    "                sampled += 1\n",
    "            attempts += 1\n",
    "    \n",
    "    # Convert to DataFrame and aggregate\n",
    "    df = pd.DataFrame(all_pairs)\n",
    "    \n",
    "    if len(df) == 0:\n",
    "        return pd.DataFrame(columns=['source_degree', 'target_degree', 'edge_probability'])\n",
    "    \n",
    "    # Aggregate by degree pair\n",
    "    null_freq = df.groupby(['source_degree', 'target_degree']).agg({\n",
    "        'edge_exists': ['sum', 'count', 'mean']\n",
    "    }).reset_index()\n",
    "    \n",
    "    null_freq.columns = ['source_degree', 'target_degree', 'edge_count', 'total_count', 'edge_probability']\n",
    "    \n",
    "    return null_freq"
   ]
  },
  {
   "cell_type": "code",
   "execution_count": 5,
   "id": "1a789e17",
   "metadata": {
    "execution": {
     "iopub.execute_input": "2025-10-08T07:03:49.925797Z",
     "iopub.status.busy": "2025-10-08T07:03:49.925568Z",
     "iopub.status.idle": "2025-10-08T07:03:49.935160Z",
     "shell.execute_reply": "2025-10-08T07:03:49.934740Z"
    },
    "papermill": {
     "duration": 0.017707,
     "end_time": "2025-10-08T07:03:49.936175",
     "exception": false,
     "start_time": "2025-10-08T07:03:49.918468",
     "status": "completed"
    },
    "tags": []
   },
   "outputs": [],
   "source": [
    "def analyze_errors_by_degree(predictions, actuals, source_degrees, target_degrees):\n",
    "    \"\"\"\n",
    "    Analyze prediction errors stratified by degree bins.\n",
    "    \"\"\"\n",
    "    # Define degree bins\n",
    "    degree_bins = [0, 1, 2, 5, 10, 20, 50, 100, 500, np.inf]\n",
    "    degree_labels = ['0', '1', '2-4', '5-9', '10-19', '20-49', '50-99', '100-499', '500+']\n",
    "    \n",
    "    results = []\n",
    "    \n",
    "    # Bin degrees\n",
    "    source_bins = pd.cut(source_degrees, bins=degree_bins, labels=degree_labels)\n",
    "    target_bins = pd.cut(target_degrees, bins=degree_bins, labels=degree_labels)\n",
    "    \n",
    "    # Error metrics by source degree\n",
    "    for bin_label in degree_labels:\n",
    "        mask = source_bins == bin_label\n",
    "        if mask.sum() >= 10:\n",
    "            results.append({\n",
    "                'stratification': 'source_degree',\n",
    "                'bin': bin_label,\n",
    "                'n_samples': int(mask.sum()),\n",
    "                'mean_prediction': float(predictions[mask].mean()),\n",
    "                'mean_actual': float(actuals[mask].mean()),\n",
    "                'mae': float(np.abs(predictions[mask] - actuals[mask]).mean()),\n",
    "                'rmse': float(np.sqrt(((predictions[mask] - actuals[mask])**2).mean())),\n",
    "                'correlation': float(np.corrcoef(predictions[mask], actuals[mask])[0,1]) if mask.sum() > 1 else np.nan,\n",
    "                'mean_degree': float(source_degrees[mask].mean())\n",
    "            })\n",
    "    \n",
    "    # Error metrics by target degree\n",
    "    for bin_label in degree_labels:\n",
    "        mask = target_bins == bin_label\n",
    "        if mask.sum() >= 10:\n",
    "            results.append({\n",
    "                'stratification': 'target_degree',\n",
    "                'bin': bin_label,\n",
    "                'n_samples': int(mask.sum()),\n",
    "                'mean_prediction': float(predictions[mask].mean()),\n",
    "                'mean_actual': float(actuals[mask].mean()),\n",
    "                'mae': float(np.abs(predictions[mask] - actuals[mask]).mean()),\n",
    "                'rmse': float(np.sqrt(((predictions[mask] - actuals[mask])**2).mean())),\n",
    "                'correlation': float(np.corrcoef(predictions[mask], actuals[mask])[0,1]) if mask.sum() > 1 else np.nan,\n",
    "                'mean_degree': float(target_degrees[mask].mean())\n",
    "            })\n",
    "    \n",
    "    # Error metrics by degree product\n",
    "    degree_products = source_degrees * target_degrees\n",
    "    product_bins = pd.cut(degree_products, \n",
    "                          bins=[0, 1, 10, 100, 1000, 10000, 100000, np.inf],\n",
    "                          labels=['0-1', '2-10', '11-100', '101-1K', '1K-10K', '10K-100K', '100K+'])\n",
    "    \n",
    "    for bin_label in product_bins.unique():\n",
    "        if pd.notna(bin_label):\n",
    "            mask = product_bins == bin_label\n",
    "            if mask.sum() >= 10:\n",
    "                results.append({\n",
    "                    'stratification': 'degree_product',\n",
    "                    'bin': str(bin_label),\n",
    "                    'n_samples': int(mask.sum()),\n",
    "                    'mean_prediction': float(predictions[mask].mean()),\n",
    "                    'mean_actual': float(actuals[mask].mean()),\n",
    "                    'mae': float(np.abs(predictions[mask] - actuals[mask]).mean()),\n",
    "                    'rmse': float(np.sqrt(((predictions[mask] - actuals[mask])**2).mean())),\n",
    "                    'correlation': float(np.corrcoef(predictions[mask], actuals[mask])[0,1]) if mask.sum() > 1 else np.nan,\n",
    "                    'mean_product': float(degree_products[mask].mean())\n",
    "                })\n",
    "    \n",
    "    return pd.DataFrame(results)"
   ]
  },
  {
   "cell_type": "markdown",
   "id": "5b0d1358",
   "metadata": {
    "papermill": {
     "duration": 0.005481,
     "end_time": "2025-10-08T07:03:49.948292",
     "exception": false,
     "start_time": "2025-10-08T07:03:49.942811",
     "status": "completed"
    },
    "tags": []
   },
   "source": [
    "## 2. Train Null Models for All Edge Types"
   ]
  },
  {
   "cell_type": "code",
   "execution_count": 6,
   "id": "fa5503ec",
   "metadata": {
    "execution": {
     "iopub.execute_input": "2025-10-08T07:03:49.960019Z",
     "iopub.status.busy": "2025-10-08T07:03:49.959793Z",
     "iopub.status.idle": "2025-10-08T07:11:28.471941Z",
     "shell.execute_reply": "2025-10-08T07:11:28.471244Z"
    },
    "papermill": {
     "duration": 458.519046,
     "end_time": "2025-10-08T07:11:28.472855",
     "exception": false,
     "start_time": "2025-10-08T07:03:49.953809",
     "status": "completed"
    },
    "tags": []
   },
   "outputs": [
    {
     "name": "stdout",
     "output_type": "stream",
     "text": [
      "\n",
      "======================================================================\n",
      "Training null models for AdG\n",
      "======================================================================\n",
      "Loading training data from permutations 1-20...\n"
     ]
    },
    {
     "name": "stdout",
     "output_type": "stream",
     "text": [
      "  Training samples: 1,116\n",
      "  Source degree range: 1149-6182\n",
      "  Target degree range: 1-31\n",
      "  Mean edge probability: 0.9524\n",
      "\n",
      "Training Polynomial Logistic Regression...\n"
     ]
    },
    {
     "name": "stdout",
     "output_type": "stream",
     "text": [
      "Training Random Forest...\n"
     ]
    },
    {
     "name": "stdout",
     "output_type": "stream",
     "text": [
      "  ✓ Saved models:\n",
      "    - AdG_poly_null.pkl\n",
      "    - AdG_poly_features.pkl\n",
      "    - AdG_rf_null.pkl\n",
      "\n",
      "======================================================================\n",
      "Training null models for AeG\n",
      "======================================================================\n",
      "Loading training data from permutations 1-20...\n"
     ]
    },
    {
     "name": "stdout",
     "output_type": "stream",
     "text": [
      "  Training samples: 13,237\n",
      "  Source degree range: 1-15036\n",
      "  Target degree range: 1-98\n",
      "  Mean edge probability: 0.6190\n",
      "\n",
      "Training Polynomial Logistic Regression...\n",
      "Training Random Forest...\n"
     ]
    },
    {
     "name": "stdout",
     "output_type": "stream",
     "text": [
      "  ✓ Saved models:\n",
      "    - AeG_poly_null.pkl\n",
      "    - AeG_poly_features.pkl\n",
      "    - AeG_rf_null.pkl\n",
      "\n",
      "======================================================================\n",
      "Training null models for AuG\n",
      "======================================================================\n",
      "Loading training data from permutations 1-20...\n"
     ]
    },
    {
     "name": "stdout",
     "output_type": "stream",
     "text": [
      "  Training samples: 864\n",
      "  Source degree range: 1037-5092\n",
      "  Target degree range: 1-24\n",
      "  Mean edge probability: 0.9476\n",
      "\n",
      "Training Polynomial Logistic Regression...\n",
      "Training Random Forest...\n",
      "  ✓ Saved models:\n",
      "    - AuG_poly_null.pkl\n",
      "    - AuG_poly_features.pkl\n",
      "    - AuG_rf_null.pkl\n",
      "\n",
      "======================================================================\n",
      "Training null models for CbG\n",
      "======================================================================\n",
      "Loading training data from permutations 1-20...\n"
     ]
    },
    {
     "name": "stdout",
     "output_type": "stream",
     "text": [
      "  Training samples: 4,093\n",
      "  Source degree range: 1-132\n",
      "  Target degree range: 1-516\n",
      "  Mean edge probability: 0.9830\n",
      "\n",
      "Training Polynomial Logistic Regression...\n",
      "Training Random Forest...\n",
      "  ✓ Saved models:\n",
      "    - CbG_poly_null.pkl\n",
      "    - CbG_poly_features.pkl\n",
      "    - CbG_rf_null.pkl\n",
      "\n",
      "======================================================================\n",
      "Training null models for CcSE\n",
      "======================================================================\n",
      "Loading training data from permutations 1-20...\n"
     ]
    },
    {
     "name": "stdout",
     "output_type": "stream",
     "text": [
      "  Training samples: 102,390\n",
      "  Source degree range: 1-839\n",
      "  Target degree range: 1-932\n",
      "  Mean edge probability: 0.9459\n",
      "\n",
      "Training Polynomial Logistic Regression...\n",
      "Training Random Forest...\n"
     ]
    },
    {
     "name": "stdout",
     "output_type": "stream",
     "text": [
      "  ✓ Saved models:\n",
      "    - CcSE_poly_null.pkl\n",
      "    - CcSE_poly_features.pkl\n",
      "    - CcSE_rf_null.pkl\n",
      "\n",
      "======================================================================\n",
      "Training null models for CdG\n",
      "======================================================================\n",
      "Loading training data from permutations 1-20...\n"
     ]
    },
    {
     "name": "stdout",
     "output_type": "stream",
     "text": [
      "  Training samples: 7,198\n",
      "  Source degree range: 1-250\n",
      "  Target degree range: 1-164\n",
      "  Mean edge probability: 0.9690\n",
      "\n",
      "Training Polynomial Logistic Regression...\n",
      "Training Random Forest...\n"
     ]
    },
    {
     "name": "stdout",
     "output_type": "stream",
     "text": [
      "  ✓ Saved models:\n",
      "    - CdG_poly_null.pkl\n",
      "    - CdG_poly_features.pkl\n",
      "    - CdG_rf_null.pkl\n",
      "\n",
      "======================================================================\n",
      "Training null models for CpD\n",
      "======================================================================\n",
      "Loading training data from permutations 1-20...\n"
     ]
    },
    {
     "name": "stdout",
     "output_type": "stream",
     "text": [
      "  Training samples: 159\n",
      "  Source degree range: 1-9\n",
      "  Target degree range: 1-30\n",
      "  Mean edge probability: 0.9662\n",
      "\n",
      "Training Polynomial Logistic Regression...\n",
      "Training Random Forest...\n",
      "  ✓ Saved models:\n",
      "    - CpD_poly_null.pkl\n",
      "    - CpD_poly_features.pkl\n",
      "    - CpD_rf_null.pkl\n",
      "\n",
      "======================================================================\n",
      "Training null models for CrC\n",
      "======================================================================\n",
      "Loading training data from permutations 1-20...\n"
     ]
    },
    {
     "name": "stdout",
     "output_type": "stream",
     "text": [
      "  Training samples: 2,295\n",
      "  Source degree range: 1-58\n",
      "  Target degree range: 1-58\n",
      "  Mean edge probability: 0.9424\n",
      "\n",
      "Training Polynomial Logistic Regression...\n",
      "Training Random Forest...\n",
      "  ✓ Saved models:\n",
      "    - CrC_poly_null.pkl\n",
      "    - CrC_poly_features.pkl\n",
      "    - CrC_rf_null.pkl\n",
      "\n",
      "======================================================================\n",
      "Training null models for CtD\n",
      "======================================================================\n",
      "Loading training data from permutations 1-20...\n"
     ]
    },
    {
     "name": "stdout",
     "output_type": "stream",
     "text": [
      "  Training samples: 408\n",
      "  Source degree range: 1-19\n",
      "  Target degree range: 1-68\n",
      "  Mean edge probability: 0.9540\n",
      "\n",
      "Training Polynomial Logistic Regression...\n",
      "Training Random Forest...\n",
      "  ✓ Saved models:\n",
      "    - CtD_poly_null.pkl\n",
      "    - CtD_poly_features.pkl\n",
      "    - CtD_rf_null.pkl\n",
      "\n",
      "======================================================================\n",
      "Training null models for CuG\n",
      "======================================================================\n",
      "Loading training data from permutations 1-20...\n"
     ]
    },
    {
     "name": "stdout",
     "output_type": "stream",
     "text": [
      "  Training samples: 6,028\n",
      "  Source degree range: 1-250\n",
      "  Target degree range: 1-119\n",
      "  Mean edge probability: 0.9716\n",
      "\n",
      "Training Polynomial Logistic Regression...\n",
      "Training Random Forest...\n"
     ]
    },
    {
     "name": "stdout",
     "output_type": "stream",
     "text": [
      "  ✓ Saved models:\n",
      "    - CuG_poly_null.pkl\n",
      "    - CuG_poly_features.pkl\n",
      "    - CuG_rf_null.pkl\n",
      "\n",
      "======================================================================\n",
      "Training null models for DaG\n",
      "======================================================================\n",
      "Loading training data from permutations 1-20...\n"
     ]
    },
    {
     "name": "stdout",
     "output_type": "stream",
     "text": [
      "  Training samples: 3,268\n",
      "  Source degree range: 1-550\n",
      "  Target degree range: 1-47\n",
      "  Mean edge probability: 0.9448\n",
      "\n",
      "Training Polynomial Logistic Regression...\n",
      "Training Random Forest...\n"
     ]
    },
    {
     "name": "stdout",
     "output_type": "stream",
     "text": [
      "  ✓ Saved models:\n",
      "    - DaG_poly_null.pkl\n",
      "    - DaG_poly_features.pkl\n",
      "    - DaG_rf_null.pkl\n",
      "\n",
      "======================================================================\n",
      "Training null models for DdG\n",
      "======================================================================\n",
      "Loading training data from permutations 1-20...\n"
     ]
    },
    {
     "name": "stdout",
     "output_type": "stream",
     "text": [
      "  Training samples: 98\n",
      "  Source degree range: 1-250\n",
      "  Target degree range: 1-6\n",
      "  Mean edge probability: 0.7715\n",
      "\n",
      "Training Polynomial Logistic Regression...\n",
      "Training Random Forest...\n",
      "  ✓ Saved models:\n",
      "    - DdG_poly_null.pkl\n",
      "    - DdG_poly_features.pkl\n",
      "    - DdG_rf_null.pkl\n",
      "\n",
      "======================================================================\n",
      "Training null models for DlA\n",
      "======================================================================\n",
      "Loading training data from permutations 1-20...\n"
     ]
    },
    {
     "name": "stdout",
     "output_type": "stream",
     "text": [
      "  Training samples: 1,349\n",
      "  Source degree range: 4-128\n",
      "  Target degree range: 1-36\n",
      "  Mean edge probability: 0.8896\n",
      "\n",
      "Training Polynomial Logistic Regression...\n",
      "Training Random Forest...\n",
      "  ✓ Saved models:\n",
      "    - DlA_poly_null.pkl\n",
      "    - DlA_poly_features.pkl\n",
      "    - DlA_rf_null.pkl\n",
      "\n",
      "======================================================================\n",
      "Training null models for DpS\n",
      "======================================================================\n",
      "Loading training data from permutations 1-20...\n"
     ]
    },
    {
     "name": "stdout",
     "output_type": "stream",
     "text": [
      "  Training samples: 1,819\n",
      "  Source degree range: 1-116\n",
      "  Target degree range: 1-49\n",
      "  Mean edge probability: 0.9071\n",
      "\n",
      "Training Polynomial Logistic Regression...\n",
      "Training Random Forest...\n",
      "  ✓ Saved models:\n",
      "    - DpS_poly_null.pkl\n",
      "    - DpS_poly_features.pkl\n",
      "    - DpS_rf_null.pkl\n",
      "\n",
      "======================================================================\n",
      "Training null models for DrD\n",
      "======================================================================\n",
      "Loading training data from permutations 1-20...\n"
     ]
    },
    {
     "name": "stdout",
     "output_type": "stream",
     "text": [
      "  Training samples: 620\n",
      "  Source degree range: 1-33\n",
      "  Target degree range: 1-33\n",
      "  Mean edge probability: 0.8961\n",
      "\n",
      "Training Polynomial Logistic Regression...\n",
      "Training Random Forest...\n",
      "  ✓ Saved models:\n",
      "    - DrD_poly_null.pkl\n",
      "    - DrD_poly_features.pkl\n",
      "    - DrD_rf_null.pkl\n",
      "\n",
      "======================================================================\n",
      "Training null models for DuG\n",
      "======================================================================\n",
      "Loading training data from permutations 1-20...\n"
     ]
    },
    {
     "name": "stdout",
     "output_type": "stream",
     "text": [
      "  Training samples: 126\n",
      "  Source degree range: 1-250\n",
      "  Target degree range: 1-9\n",
      "  Mean edge probability: 0.7707\n",
      "\n",
      "Training Polynomial Logistic Regression...\n",
      "Training Random Forest...\n",
      "  ✓ Saved models:\n",
      "    - DuG_poly_null.pkl\n",
      "    - DuG_poly_features.pkl\n",
      "    - DuG_rf_null.pkl\n",
      "\n",
      "======================================================================\n",
      "Training null models for GcG\n",
      "======================================================================\n",
      "Loading training data from permutations 1-20...\n"
     ]
    },
    {
     "name": "stdout",
     "output_type": "stream",
     "text": [
      "  Training samples: 37,865\n",
      "  Source degree range: 1-454\n",
      "  Target degree range: 1-454\n",
      "  Mean edge probability: 0.9932\n",
      "\n",
      "Training Polynomial Logistic Regression...\n",
      "Training Random Forest...\n"
     ]
    },
    {
     "name": "stdout",
     "output_type": "stream",
     "text": [
      "  ✓ Saved models:\n",
      "    - GcG_poly_null.pkl\n",
      "    - GcG_poly_features.pkl\n",
      "    - GcG_rf_null.pkl\n",
      "\n",
      "======================================================================\n",
      "Training null models for GiG\n",
      "======================================================================\n",
      "Loading training data from permutations 1-20...\n"
     ]
    },
    {
     "name": "stdout",
     "output_type": "stream",
     "text": [
      "  Training samples: 90,354\n",
      "  Source degree range: 1-8611\n",
      "  Target degree range: 1-8611\n",
      "  Mean edge probability: 0.9882\n",
      "\n",
      "Training Polynomial Logistic Regression...\n",
      "Training Random Forest...\n"
     ]
    },
    {
     "name": "stdout",
     "output_type": "stream",
     "text": [
      "  ✓ Saved models:\n",
      "    - GiG_poly_null.pkl\n",
      "    - GiG_poly_features.pkl\n",
      "    - GiG_rf_null.pkl\n",
      "\n",
      "======================================================================\n",
      "Training null models for GpBP\n",
      "======================================================================\n",
      "Loading training data from permutations 1-20...\n"
     ]
    },
    {
     "name": "stdout",
     "output_type": "stream",
     "text": [
      "  Training samples: 217,405\n",
      "  Source degree range: 1-799\n",
      "  Target degree range: 2-999\n",
      "  Mean edge probability: 0.9810\n",
      "\n",
      "Training Polynomial Logistic Regression...\n",
      "Training Random Forest...\n"
     ]
    },
    {
     "name": "stdout",
     "output_type": "stream",
     "text": [
      "  ✓ Saved models:\n",
      "    - GpBP_poly_null.pkl\n",
      "    - GpBP_poly_features.pkl\n",
      "    - GpBP_rf_null.pkl\n",
      "\n",
      "======================================================================\n",
      "Training null models for GpCC\n",
      "======================================================================\n",
      "Loading training data from permutations 1-20...\n"
     ]
    },
    {
     "name": "stdout",
     "output_type": "stream",
     "text": [
      "  Training samples: 13,309\n",
      "  Source degree range: 1-66\n",
      "  Target degree range: 2-1000\n",
      "  Mean edge probability: 0.9622\n",
      "\n",
      "Training Polynomial Logistic Regression...\n",
      "Training Random Forest...\n"
     ]
    },
    {
     "name": "stdout",
     "output_type": "stream",
     "text": [
      "  ✓ Saved models:\n",
      "    - GpCC_poly_null.pkl\n",
      "    - GpCC_poly_features.pkl\n",
      "    - GpCC_rf_null.pkl\n",
      "\n",
      "======================================================================\n",
      "Training null models for GpMF\n",
      "======================================================================\n",
      "Loading training data from permutations 1-20...\n"
     ]
    },
    {
     "name": "stdout",
     "output_type": "stream",
     "text": [
      "  Training samples: 12,606\n",
      "  Source degree range: 1-55\n",
      "  Target degree range: 2-955\n",
      "  Mean edge probability: 0.9700\n",
      "\n",
      "Training Polynomial Logistic Regression...\n",
      "Training Random Forest...\n"
     ]
    },
    {
     "name": "stdout",
     "output_type": "stream",
     "text": [
      "  ✓ Saved models:\n",
      "    - GpMF_poly_null.pkl\n",
      "    - GpMF_poly_features.pkl\n",
      "    - GpMF_rf_null.pkl\n",
      "\n",
      "======================================================================\n",
      "Training null models for GpPW\n",
      "======================================================================\n",
      "Loading training data from permutations 1-20...\n"
     ]
    },
    {
     "name": "stdout",
     "output_type": "stream",
     "text": [
      "  Training samples: 24,945\n",
      "  Source degree range: 1-231\n",
      "  Target degree range: 2-1956\n",
      "  Mean edge probability: 0.9714\n",
      "\n",
      "Training Polynomial Logistic Regression...\n",
      "Training Random Forest...\n"
     ]
    },
    {
     "name": "stdout",
     "output_type": "stream",
     "text": [
      "  ✓ Saved models:\n",
      "    - GpPW_poly_null.pkl\n",
      "    - GpPW_poly_features.pkl\n",
      "    - GpPW_rf_null.pkl\n",
      "\n",
      "======================================================================\n",
      "Training null models for Gr>G\n",
      "======================================================================\n",
      "Loading training data from permutations 1-20...\n"
     ]
    },
    {
     "name": "stdout",
     "output_type": "stream",
     "text": [
      "  Training samples: 102,554\n",
      "  Source degree range: 1-383\n",
      "  Target degree range: 1-1710\n",
      "  Mean edge probability: 0.9684\n",
      "\n",
      "Training Polynomial Logistic Regression...\n",
      "Training Random Forest...\n"
     ]
    },
    {
     "name": "stdout",
     "output_type": "stream",
     "text": [
      "  ✓ Saved models:\n",
      "    - Gr>G_poly_null.pkl\n",
      "    - Gr>G_poly_features.pkl\n",
      "    - Gr>G_rf_null.pkl\n",
      "\n",
      "======================================================================\n",
      "Training null models for PCiC\n",
      "======================================================================\n",
      "Loading training data from permutations 1-20...\n"
     ]
    },
    {
     "name": "stdout",
     "output_type": "stream",
     "text": [
      "  Training samples: 188\n",
      "  Source degree range: 1-22\n",
      "  Target degree range: 1-13\n",
      "  Mean edge probability: 0.9808\n",
      "\n",
      "Training Polynomial Logistic Regression...\n",
      "Training Random Forest...\n",
      "  ✓ Saved models:\n",
      "    - PCiC_poly_null.pkl\n",
      "    - PCiC_poly_features.pkl\n",
      "    - PCiC_rf_null.pkl\n",
      "\n",
      "======================================================================\n",
      "TRAINING COMPLETE\n",
      "======================================================================\n",
      "Successfully trained models for 24 edge types\n",
      "Total model files: 72\n"
     ]
    }
   ],
   "source": [
    "training_results = []\n",
    "\n",
    "for edge_type in edge_types_to_process:\n",
    "    print(f\"\\n{'='*70}\")\n",
    "    print(f\"Training null models for {edge_type}\")\n",
    "    print(f\"{'='*70}\")\n",
    "    \n",
    "    # Load training data (perms 1-20)\n",
    "    print(f\"Loading training data from permutations {training_perm_range[0]}-{training_perm_range[1]-1}...\")\n",
    "    train_freq = load_null_edge_frequencies(\n",
    "        edge_type, \n",
    "        range(training_perm_range[0], training_perm_range[1])\n",
    "    )\n",
    "    \n",
    "    if len(train_freq) == 0:\n",
    "        print(f\"  ⚠ No training data found for {edge_type}, skipping...\")\n",
    "        continue\n",
    "    \n",
    "    print(f\"  Training samples: {len(train_freq):,}\")\n",
    "    print(f\"  Source degree range: {train_freq['source_degree'].min()}-{train_freq['source_degree'].max()}\")\n",
    "    print(f\"  Target degree range: {train_freq['target_degree'].min()}-{train_freq['target_degree'].max()}\")\n",
    "    print(f\"  Mean edge probability: {train_freq['edge_probability'].mean():.4f}\")\n",
    "    \n",
    "    # Prepare features and targets\n",
    "    X_train = train_freq[['source_degree', 'target_degree']].values\n",
    "    y_train = train_freq['edge_probability'].values\n",
    "    \n",
    "    # Train Polynomial Logistic Regression\n",
    "    print(f\"\\nTraining Polynomial Logistic Regression...\")\n",
    "    poly_features = PolynomialFeatures(degree=2, include_bias=False)\n",
    "    X_train_poly = poly_features.fit_transform(X_train)\n",
    "    \n",
    "    poly_model = Ridge(alpha=1.0, random_state=42)\n",
    "    poly_model.fit(X_train_poly, y_train)\n",
    "    \n",
    "    # Train Random Forest\n",
    "    print(f\"Training Random Forest...\")\n",
    "    rf_model = RandomForestRegressor(\n",
    "        n_estimators=100, \n",
    "        max_depth=10, \n",
    "        random_state=42,\n",
    "        n_jobs=-1\n",
    "    )\n",
    "    rf_model.fit(X_train, y_train)\n",
    "    \n",
    "    # Save models\n",
    "    poly_model_file = results_dir / f'{edge_type}_poly_null.pkl'\n",
    "    poly_features_file = results_dir / f'{edge_type}_poly_features.pkl'\n",
    "    rf_model_file = results_dir / f'{edge_type}_rf_null.pkl'\n",
    "    \n",
    "    joblib.dump(poly_model, poly_model_file)\n",
    "    joblib.dump(poly_features, poly_features_file)\n",
    "    joblib.dump(rf_model, rf_model_file)\n",
    "    \n",
    "    print(f\"  ✓ Saved models:\")\n",
    "    print(f\"    - {poly_model_file.name}\")\n",
    "    print(f\"    - {poly_features_file.name}\")\n",
    "    print(f\"    - {rf_model_file.name}\")\n",
    "    \n",
    "    training_results.append({\n",
    "        'edge_type': edge_type,\n",
    "        'n_training_samples': len(train_freq),\n",
    "        'mean_edge_prob': train_freq['edge_probability'].mean(),\n",
    "        'poly_model_file': str(poly_model_file),\n",
    "        'rf_model_file': str(rf_model_file)\n",
    "    })\n",
    "\n",
    "training_df = pd.DataFrame(training_results)\n",
    "print(f\"\\n{'='*70}\")\n",
    "print(f\"TRAINING COMPLETE\")\n",
    "print(f\"{'='*70}\")\n",
    "print(f\"Successfully trained models for {len(training_df)} edge types\")\n",
    "print(f\"Total model files: {len(training_df) * 3}\")"
   ]
  },
  {
   "cell_type": "markdown",
   "id": "03c60d18",
   "metadata": {
    "papermill": {
     "duration": 0.013469,
     "end_time": "2025-10-08T07:11:28.495706",
     "exception": false,
     "start_time": "2025-10-08T07:11:28.482237",
     "status": "completed"
    },
    "tags": []
   },
   "source": [
    "## 3. Validate on Held-Out Nulls"
   ]
  },
  {
   "cell_type": "code",
   "execution_count": 7,
   "id": "e58c9d4c",
   "metadata": {
    "execution": {
     "iopub.execute_input": "2025-10-08T07:11:28.512312Z",
     "iopub.status.busy": "2025-10-08T07:11:28.512054Z",
     "iopub.status.idle": "2025-10-08T07:15:15.587386Z",
     "shell.execute_reply": "2025-10-08T07:15:15.586896Z"
    },
    "papermill": {
     "duration": 227.084296,
     "end_time": "2025-10-08T07:15:15.588218",
     "exception": false,
     "start_time": "2025-10-08T07:11:28.503922",
     "status": "completed"
    },
    "tags": []
   },
   "outputs": [
    {
     "name": "stdout",
     "output_type": "stream",
     "text": [
      "\n",
      "Validating AdG...\n"
     ]
    },
    {
     "name": "stdout",
     "output_type": "stream",
     "text": [
      "  Validation samples: 1,116\n",
      "  Polynomial LogReg: r=0.8936, MAE=0.0224, RMSE=0.0379\n",
      "  Random Forest:     r=0.9945, MAE=0.0054, RMSE=0.0088\n",
      "\n",
      "Validating AeG...\n"
     ]
    },
    {
     "name": "stdout",
     "output_type": "stream",
     "text": [
      "  Validation samples: 13,186\n",
      "  Polynomial LogReg: r=0.9031, MAE=0.1177, RMSE=0.1756\n",
      "  Random Forest:     r=0.9840, MAE=0.0302, RMSE=0.0720\n",
      "\n",
      "Validating AuG...\n"
     ]
    },
    {
     "name": "stdout",
     "output_type": "stream",
     "text": [
      "  Validation samples: 864\n",
      "  Polynomial LogReg: r=0.9027, MAE=0.0224, RMSE=0.0334\n",
      "  Random Forest:     r=0.9886, MAE=0.0070, RMSE=0.0117\n",
      "\n",
      "Validating CbG...\n"
     ]
    },
    {
     "name": "stdout",
     "output_type": "stream",
     "text": [
      "  Validation samples: 4,064\n",
      "  Polynomial LogReg: r=0.4791, MAE=0.0224, RMSE=0.0481\n",
      "  Random Forest:     r=0.8773, MAE=0.0113, RMSE=0.0260\n",
      "\n",
      "Validating CcSE...\n"
     ]
    },
    {
     "name": "stdout",
     "output_type": "stream",
     "text": [
      "  Validation samples: 100,788\n",
      "  Polynomial LogReg: r=0.5732, MAE=0.0654, RMSE=0.1276\n",
      "  Random Forest:     r=0.8157, MAE=0.0362, RMSE=0.0892\n",
      "\n",
      "Validating CdG...\n"
     ]
    },
    {
     "name": "stdout",
     "output_type": "stream",
     "text": [
      "  Validation samples: 7,134\n",
      "  Polynomial LogReg: r=0.5905, MAE=0.0363, RMSE=0.0737\n",
      "  Random Forest:     r=0.8836, MAE=0.0186, RMSE=0.0423\n",
      "\n",
      "Validating CpD...\n"
     ]
    },
    {
     "name": "stdout",
     "output_type": "stream",
     "text": [
      "  Validation samples: 158\n",
      "  Polynomial LogReg: r=0.5299, MAE=0.0306, RMSE=0.0661\n",
      "  Random Forest:     r=0.4911, MAE=0.0289, RMSE=0.0706\n",
      "\n",
      "Validating CrC...\n"
     ]
    },
    {
     "name": "stdout",
     "output_type": "stream",
     "text": [
      "  Validation samples: 2,294\n",
      "  Polynomial LogReg: r=0.8024, MAE=0.0377, RMSE=0.0638\n",
      "  Random Forest:     r=0.9487, MAE=0.0213, RMSE=0.0334\n",
      "\n",
      "Validating CtD...\n"
     ]
    },
    {
     "name": "stdout",
     "output_type": "stream",
     "text": [
      "  Validation samples: 400\n",
      "  Polynomial LogReg: r=0.5297, MAE=0.0449, RMSE=0.0867\n",
      "  Random Forest:     r=0.6124, MAE=0.0342, RMSE=0.0830\n",
      "\n",
      "Validating CuG...\n"
     ]
    },
    {
     "name": "stdout",
     "output_type": "stream",
     "text": [
      "  Validation samples: 5,944\n",
      "  Polynomial LogReg: r=0.5943, MAE=0.0330, RMSE=0.0677\n",
      "  Random Forest:     r=0.8659, MAE=0.0181, RMSE=0.0417\n",
      "\n",
      "Validating DaG...\n"
     ]
    },
    {
     "name": "stdout",
     "output_type": "stream",
     "text": [
      "  Validation samples: 3,178\n",
      "  Polynomial LogReg: r=0.5937, MAE=0.0575, RMSE=0.1173\n",
      "  Random Forest:     r=0.7845, MAE=0.0331, RMSE=0.0901\n",
      "\n",
      "Validating DdG...\n"
     ]
    },
    {
     "name": "stdout",
     "output_type": "stream",
     "text": [
      "  Validation samples: 99\n",
      "  Polynomial LogReg: r=0.8153, MAE=0.1213, RMSE=0.1694\n",
      "  Random Forest:     r=0.9067, MAE=0.0718, RMSE=0.1221\n",
      "\n",
      "Validating DlA...\n"
     ]
    },
    {
     "name": "stdout",
     "output_type": "stream",
     "text": [
      "  Validation samples: 1,343\n",
      "  Polynomial LogReg: r=0.7156, MAE=0.0683, RMSE=0.1185\n",
      "  Random Forest:     r=0.7478, MAE=0.0607, RMSE=0.1128\n",
      "\n",
      "Validating DpS...\n"
     ]
    },
    {
     "name": "stdout",
     "output_type": "stream",
     "text": [
      "  Validation samples: 1,799\n",
      "  Polynomial LogReg: r=0.7192, MAE=0.0662, RMSE=0.1140\n",
      "  Random Forest:     r=0.7813, MAE=0.0518, RMSE=0.1032\n",
      "\n",
      "Validating DrD...\n"
     ]
    },
    {
     "name": "stdout",
     "output_type": "stream",
     "text": [
      "  Validation samples: 620\n",
      "  Polynomial LogReg: r=0.7911, MAE=0.0620, RMSE=0.1035\n",
      "  Random Forest:     r=0.8266, MAE=0.0558, RMSE=0.0954\n",
      "\n",
      "Validating DuG...\n"
     ]
    },
    {
     "name": "stdout",
     "output_type": "stream",
     "text": [
      "  Validation samples: 124\n",
      "  Polynomial LogReg: r=0.8179, MAE=0.1179, RMSE=0.1735\n",
      "  Random Forest:     r=0.8542, MAE=0.0760, RMSE=0.1547\n",
      "\n",
      "Validating GcG...\n"
     ]
    },
    {
     "name": "stdout",
     "output_type": "stream",
     "text": [
      "  Validation samples: 37,293\n",
      "  Polynomial LogReg: r=0.4120, MAE=0.0099, RMSE=0.0295\n",
      "  Random Forest:     r=0.9047, MAE=0.0042, RMSE=0.0137\n",
      "\n",
      "Validating GiG...\n"
     ]
    },
    {
     "name": "stdout",
     "output_type": "stream",
     "text": [
      "  Validation samples: 89,438\n",
      "  Polynomial LogReg: r=0.3076, MAE=0.0187, RMSE=0.0511\n",
      "  Random Forest:     r=0.9405, MAE=0.0060, RMSE=0.0180\n",
      "\n",
      "Validating GpBP...\n"
     ]
    },
    {
     "name": "stdout",
     "output_type": "stream",
     "text": [
      "  Validation samples: 215,393\n",
      "  Polynomial LogReg: r=0.5396, MAE=0.0232, RMSE=0.0563\n",
      "  Random Forest:     r=0.9191, MAE=0.0106, RMSE=0.0261\n",
      "\n",
      "Validating GpCC...\n"
     ]
    },
    {
     "name": "stdout",
     "output_type": "stream",
     "text": [
      "  Validation samples: 13,078\n",
      "  Polynomial LogReg: r=0.6136, MAE=0.0383, RMSE=0.0763\n",
      "  Random Forest:     r=0.8869, MAE=0.0186, RMSE=0.0443\n",
      "\n",
      "Validating GpMF...\n"
     ]
    },
    {
     "name": "stdout",
     "output_type": "stream",
     "text": [
      "  Validation samples: 12,394\n",
      "  Polynomial LogReg: r=0.6168, MAE=0.0297, RMSE=0.0616\n",
      "  Random Forest:     r=0.9143, MAE=0.0133, RMSE=0.0314\n",
      "\n",
      "Validating GpPW...\n"
     ]
    },
    {
     "name": "stdout",
     "output_type": "stream",
     "text": [
      "  Validation samples: 24,748\n",
      "  Polynomial LogReg: r=0.5180, MAE=0.0328, RMSE=0.0701\n",
      "  Random Forest:     r=0.8953, MAE=0.0153, RMSE=0.0362\n",
      "\n",
      "Validating Gr>G...\n"
     ]
    },
    {
     "name": "stdout",
     "output_type": "stream",
     "text": [
      "  Validation samples: 102,214\n",
      "  Polynomial LogReg: r=0.5424, MAE=0.0375, RMSE=0.0813\n",
      "  Random Forest:     r=0.8822, MAE=0.0195, RMSE=0.0452\n",
      "\n",
      "Validating PCiC...\n"
     ]
    },
    {
     "name": "stdout",
     "output_type": "stream",
     "text": [
      "  Validation samples: 184\n",
      "  Polynomial LogReg: r=0.6898, MAE=0.0163, RMSE=0.0313\n",
      "  Random Forest:     r=0.7633, MAE=0.0135, RMSE=0.0278\n",
      "\n",
      "======================================================================\n",
      "VALIDATION COMPLETE\n",
      "======================================================================\n",
      "\n",
      "Validation Summary:\n",
      "  Mean Poly correlation: 0.6455\n",
      "  Mean RF correlation:   0.8529\n",
      "  Mean Poly RMSE:        0.0848\n",
      "  Mean RF RMSE:          0.0583\n"
     ]
    }
   ],
   "source": [
    "validation_results = []\n",
    "\n",
    "for edge_type in edge_types_to_process:\n",
    "    print(f\"\\nValidating {edge_type}...\")\n",
    "    \n",
    "    # Check if models exist\n",
    "    poly_model_file = results_dir / f'{edge_type}_poly_null.pkl'\n",
    "    poly_features_file = results_dir / f'{edge_type}_poly_features.pkl'\n",
    "    rf_model_file = results_dir / f'{edge_type}_rf_null.pkl'\n",
    "    \n",
    "    if not all([poly_model_file.exists(), rf_model_file.exists()]):\n",
    "        print(f\"  ⚠ Models not found, skipping...\")\n",
    "        continue\n",
    "    \n",
    "    # Load validation data (perms 21-30)\n",
    "    val_freq = load_null_edge_frequencies(\n",
    "        edge_type,\n",
    "        range(validation_perm_range[0], validation_perm_range[1])\n",
    "    )\n",
    "    \n",
    "    if len(val_freq) == 0:\n",
    "        print(f\"  ⚠ No validation data found, skipping...\")\n",
    "        continue\n",
    "    \n",
    "    X_val = val_freq[['source_degree', 'target_degree']].values\n",
    "    y_val = val_freq['edge_probability'].values\n",
    "    \n",
    "    # Load models\n",
    "    poly_model = joblib.load(poly_model_file)\n",
    "    poly_features = joblib.load(poly_features_file)\n",
    "    rf_model = joblib.load(rf_model_file)\n",
    "    \n",
    "    # Predict with Polynomial LogReg\n",
    "    X_val_poly = poly_features.transform(X_val)\n",
    "    y_pred_poly = poly_model.predict(X_val_poly)\n",
    "    y_pred_poly = np.clip(y_pred_poly, 0, 1)  # Ensure valid probabilities\n",
    "    \n",
    "    # Predict with Random Forest\n",
    "    y_pred_rf = rf_model.predict(X_val)\n",
    "    y_pred_rf = np.clip(y_pred_rf, 0, 1)\n",
    "    \n",
    "    # Evaluate Polynomial LogReg\n",
    "    corr_poly, _ = pearsonr(y_val, y_pred_poly)\n",
    "    mae_poly = np.abs(y_val - y_pred_poly).mean()\n",
    "    rmse_poly = np.sqrt(((y_val - y_pred_poly)**2).mean())\n",
    "    \n",
    "    # Evaluate Random Forest\n",
    "    corr_rf, _ = pearsonr(y_val, y_pred_rf)\n",
    "    mae_rf = np.abs(y_val - y_pred_rf).mean()\n",
    "    rmse_rf = np.sqrt(((y_val - y_pred_rf)**2).mean())\n",
    "    \n",
    "    print(f\"  Validation samples: {len(val_freq):,}\")\n",
    "    print(f\"  Polynomial LogReg: r={corr_poly:.4f}, MAE={mae_poly:.4f}, RMSE={rmse_poly:.4f}\")\n",
    "    print(f\"  Random Forest:     r={corr_rf:.4f}, MAE={mae_rf:.4f}, RMSE={rmse_rf:.4f}\")\n",
    "    \n",
    "    # Error analysis by degree (using RF predictions)\n",
    "    error_df = analyze_errors_by_degree(y_pred_rf, y_val, X_val[:, 0], X_val[:, 1])\n",
    "    error_df['edge_type'] = edge_type\n",
    "    \n",
    "    # Save error analysis\n",
    "    error_file = results_dir / f'{edge_type}_error_analysis.csv'\n",
    "    error_df.to_csv(error_file, index=False)\n",
    "    \n",
    "    validation_results.append({\n",
    "        'edge_type': edge_type,\n",
    "        'n_validation_samples': len(val_freq),\n",
    "        'poly_correlation': corr_poly,\n",
    "        'poly_mae': mae_poly,\n",
    "        'poly_rmse': rmse_poly,\n",
    "        'rf_correlation': corr_rf,\n",
    "        'rf_mae': mae_rf,\n",
    "        'rf_rmse': rmse_rf\n",
    "    })\n",
    "\n",
    "validation_df = pd.DataFrame(validation_results)\n",
    "\n",
    "print(f\"\\n{'='*70}\")\n",
    "print(f\"VALIDATION COMPLETE\")\n",
    "print(f\"{'='*70}\")\n",
    "print(f\"\\nValidation Summary:\")\n",
    "print(f\"  Mean Poly correlation: {validation_df['poly_correlation'].mean():.4f}\")\n",
    "print(f\"  Mean RF correlation:   {validation_df['rf_correlation'].mean():.4f}\")\n",
    "print(f\"  Mean Poly RMSE:        {validation_df['poly_rmse'].mean():.4f}\")\n",
    "print(f\"  Mean RF RMSE:          {validation_df['rf_rmse'].mean():.4f}\")"
   ]
  },
  {
   "cell_type": "markdown",
   "id": "13054c76",
   "metadata": {
    "papermill": {
     "duration": 0.008391,
     "end_time": "2025-10-08T07:15:15.605535",
     "exception": false,
     "start_time": "2025-10-08T07:15:15.597144",
     "status": "completed"
    },
    "tags": []
   },
   "source": [
    "## 4. Save Validation Results"
   ]
  },
  {
   "cell_type": "code",
   "execution_count": 8,
   "id": "b9e247c0",
   "metadata": {
    "execution": {
     "iopub.execute_input": "2025-10-08T07:15:15.623450Z",
     "iopub.status.busy": "2025-10-08T07:15:15.623159Z",
     "iopub.status.idle": "2025-10-08T07:15:15.633575Z",
     "shell.execute_reply": "2025-10-08T07:15:15.633111Z"
    },
    "papermill": {
     "duration": 0.02021,
     "end_time": "2025-10-08T07:15:15.634495",
     "exception": false,
     "start_time": "2025-10-08T07:15:15.614285",
     "status": "completed"
    },
    "tags": []
   },
   "outputs": [
    {
     "name": "stdout",
     "output_type": "stream",
     "text": [
      "Saved validation results to: /projects/lgillenwater@xsede.org/repositories/Context-Aware-Path-Probability/results/null_models/validation_results.csv\n",
      "Saved training summary to: /projects/lgillenwater@xsede.org/repositories/Context-Aware-Path-Probability/results/null_models/training_summary.csv\n"
     ]
    }
   ],
   "source": [
    "# Save validation results\n",
    "validation_file = results_dir / 'validation_results.csv'\n",
    "validation_df.to_csv(validation_file, index=False)\n",
    "print(f\"Saved validation results to: {validation_file}\")\n",
    "\n",
    "# Save training summary\n",
    "training_file = results_dir / 'training_summary.csv'\n",
    "training_df.to_csv(training_file, index=False)\n",
    "print(f\"Saved training summary to: {training_file}\")"
   ]
  },
  {
   "cell_type": "markdown",
   "id": "22a6e280",
   "metadata": {
    "papermill": {
     "duration": 0.008127,
     "end_time": "2025-10-08T07:15:15.651766",
     "exception": false,
     "start_time": "2025-10-08T07:15:15.643639",
     "status": "completed"
    },
    "tags": []
   },
   "source": [
    "## 5. Visualize Validation Results"
   ]
  },
  {
   "cell_type": "code",
   "execution_count": 9,
   "id": "05a01f7b",
   "metadata": {
    "execution": {
     "iopub.execute_input": "2025-10-08T07:15:15.669797Z",
     "iopub.status.busy": "2025-10-08T07:15:15.669521Z",
     "iopub.status.idle": "2025-10-08T07:15:18.097936Z",
     "shell.execute_reply": "2025-10-08T07:15:18.097294Z"
    },
    "papermill": {
     "duration": 2.438442,
     "end_time": "2025-10-08T07:15:18.099005",
     "exception": false,
     "start_time": "2025-10-08T07:15:15.660563",
     "status": "completed"
    },
    "tags": []
   },
   "outputs": [
    {
     "data": {
      "image/png": "[encoded data removed]",
      "text/plain": [
       "<Figure size 1800x500 with 3 Axes>"
      ]
     },
     "metadata": {},
     "output_type": "display_data"
    },
    {
     "name": "stdout",
     "output_type": "stream",
     "text": [
      "Saved validation performance plot\n"
     ]
    }
   ],
   "source": [
    "# Plot validation performance comparison\n",
    "fig, axes = plt.subplots(1, 3, figsize=(18, 5))\n",
    "\n",
    "# Correlation comparison\n",
    "ax = axes[0]\n",
    "x = np.arange(len(validation_df))\n",
    "width = 0.35\n",
    "\n",
    "ax.bar(x - width/2, validation_df['poly_correlation'], width, label='Polynomial LogReg', alpha=0.7)\n",
    "ax.bar(x + width/2, validation_df['rf_correlation'], width, label='Random Forest', alpha=0.7)\n",
    "ax.set_xlabel('Edge Type', fontsize=12)\n",
    "ax.set_ylabel('Correlation', fontsize=12)\n",
    "ax.set_title('Validation Correlation by Edge Type', fontsize=14, fontweight='bold')\n",
    "ax.set_xticks(x)\n",
    "ax.set_xticklabels(validation_df['edge_type'], rotation=45, ha='right')\n",
    "ax.legend()\n",
    "ax.grid(axis='y', alpha=0.3)\n",
    "ax.axhline(y=0.7, color='red', linestyle='--', alpha=0.5, label='Target (0.7)')\n",
    "\n",
    "# RMSE comparison\n",
    "ax = axes[1]\n",
    "ax.bar(x - width/2, validation_df['poly_rmse'], width, label='Polynomial LogReg', alpha=0.7)\n",
    "ax.bar(x + width/2, validation_df['rf_rmse'], width, label='Random Forest', alpha=0.7)\n",
    "ax.set_xlabel('Edge Type', fontsize=12)\n",
    "ax.set_ylabel('RMSE', fontsize=12)\n",
    "ax.set_title('Validation RMSE by Edge Type', fontsize=14, fontweight='bold')\n",
    "ax.set_xticks(x)\n",
    "ax.set_xticklabels(validation_df['edge_type'], rotation=45, ha='right')\n",
    "ax.legend()\n",
    "ax.grid(axis='y', alpha=0.3)\n",
    "\n",
    "# Scatter: Poly vs RF correlation\n",
    "ax = axes[2]\n",
    "ax.scatter(validation_df['poly_correlation'], validation_df['rf_correlation'], s=100, alpha=0.6)\n",
    "ax.plot([0, 1], [0, 1], 'r--', alpha=0.5)\n",
    "ax.set_xlabel('Polynomial LogReg Correlation', fontsize=12)\n",
    "ax.set_ylabel('Random Forest Correlation', fontsize=12)\n",
    "ax.set_title('Model Comparison', fontsize=14, fontweight='bold')\n",
    "ax.grid(True, alpha=0.3)\n",
    "\n",
    "for idx, row in validation_df.iterrows():\n",
    "    ax.annotate(row['edge_type'], \n",
    "               (row['poly_correlation'], row['rf_correlation']),\n",
    "               fontsize=8, alpha=0.7)\n",
    "\n",
    "plt.tight_layout()\n",
    "plt.savefig(results_dir / 'validation_performance.png', dpi=300, bbox_inches='tight')\n",
    "plt.show()\n",
    "\n",
    "print(\"Saved validation performance plot\")"
   ]
  },
  {
   "cell_type": "markdown",
   "id": "b495f6ba",
   "metadata": {
    "papermill": {
     "duration": 0.012168,
     "end_time": "2025-10-08T07:15:18.122420",
     "exception": false,
     "start_time": "2025-10-08T07:15:18.110252",
     "status": "completed"
    },
    "tags": []
   },
   "source": [
    "## 6. Summary Statistics"
   ]
  },
  {
   "cell_type": "code",
   "execution_count": 10,
   "id": "73764fdc",
   "metadata": {
    "execution": {
     "iopub.execute_input": "2025-10-08T07:15:18.146215Z",
     "iopub.status.busy": "2025-10-08T07:15:18.145953Z",
     "iopub.status.idle": "2025-10-08T07:15:18.198107Z",
     "shell.execute_reply": "2025-10-08T07:15:18.197562Z"
    },
    "papermill": {
     "duration": 0.065177,
     "end_time": "2025-10-08T07:15:18.199036",
     "exception": false,
     "start_time": "2025-10-08T07:15:18.133859",
     "status": "completed"
    },
    "tags": []
   },
   "outputs": [
    {
     "name": "stdout",
     "output_type": "stream",
     "text": [
      "\n",
      "======================================================================\n",
      "NULL MODEL TRAINING SUMMARY\n",
      "======================================================================\n",
      "\n",
      "Training:\n",
      "  Permutations: 1-20\n",
      "  Edge types: 24\n",
      "  Models created: 48 (Poly + RF)\n",
      "\n",
      "Validation:\n",
      "  Permutations: 21-30\n",
      "  Edge types: 24\n",
      "\n",
      "Performance (held-out null networks):\n",
      "  Polynomial LogReg:\n",
      "    Mean correlation: 0.6455 (±0.1598)\n",
      "    Mean RMSE:        0.0848 (±0.0440)\n",
      "  Random Forest:\n",
      "    Mean correlation: 0.8529 (±0.1164)\n",
      "    Mean RMSE:        0.0583 (±0.0399)\n",
      "\n",
      "Best performing edge types (by RF correlation):\n",
      "  AdG: r=0.9945, RMSE=0.0088\n",
      "  AuG: r=0.9886, RMSE=0.0117\n",
      "  AeG: r=0.9840, RMSE=0.0720\n",
      "  CrC: r=0.9487, RMSE=0.0334\n",
      "  GiG: r=0.9405, RMSE=0.0180\n",
      "\n",
      "Output files:\n",
      "  Model files: 48 + 24\n",
      "  Validation results: validation_results.csv\n",
      "  Training summary: training_summary.csv\n",
      "  Error analysis files: 24\n",
      "\n",
      "======================================================================\n",
      "COMPLETE!\n",
      "======================================================================\n"
     ]
    }
   ],
   "source": [
    "print(\"\\n\" + \"=\"*70)\n",
    "print(\"NULL MODEL TRAINING SUMMARY\")\n",
    "print(\"=\"*70)\n",
    "\n",
    "print(f\"\\nTraining:\")\n",
    "print(f\"  Permutations: {training_perm_range[0]}-{training_perm_range[1]-1}\")\n",
    "print(f\"  Edge types: {len(training_df)}\")\n",
    "print(f\"  Models created: {len(training_df) * 2} (Poly + RF)\")\n",
    "\n",
    "print(f\"\\nValidation:\")\n",
    "print(f\"  Permutations: {validation_perm_range[0]}-{validation_perm_range[1]-1}\")\n",
    "print(f\"  Edge types: {len(validation_df)}\")\n",
    "\n",
    "print(f\"\\nPerformance (held-out null networks):\")\n",
    "print(f\"  Polynomial LogReg:\")\n",
    "print(f\"    Mean correlation: {validation_df['poly_correlation'].mean():.4f} (±{validation_df['poly_correlation'].std():.4f})\")\n",
    "print(f\"    Mean RMSE:        {validation_df['poly_rmse'].mean():.4f} (±{validation_df['poly_rmse'].std():.4f})\")\n",
    "print(f\"  Random Forest:\")\n",
    "print(f\"    Mean correlation: {validation_df['rf_correlation'].mean():.4f} (±{validation_df['rf_correlation'].std():.4f})\")\n",
    "print(f\"    Mean RMSE:        {validation_df['rf_rmse'].mean():.4f} (±{validation_df['rf_rmse'].std():.4f})\")\n",
    "\n",
    "print(f\"\\nBest performing edge types (by RF correlation):\")\n",
    "top_5 = validation_df.nlargest(5, 'rf_correlation')[['edge_type', 'rf_correlation', 'rf_rmse']]\n",
    "for idx, row in top_5.iterrows():\n",
    "    print(f\"  {row['edge_type']}: r={row['rf_correlation']:.4f}, RMSE={row['rf_rmse']:.4f}\")\n",
    "\n",
    "print(f\"\\nOutput files:\")\n",
    "print(f\"  Model files: {len(list(results_dir.glob('*_null.pkl')))} + {len(list(results_dir.glob('*_features.pkl')))}\")\n",
    "print(f\"  Validation results: {validation_file.name}\")\n",
    "print(f\"  Training summary: {training_file.name}\")\n",
    "print(f\"  Error analysis files: {len(list(results_dir.glob('*_error_analysis.csv')))}\")\n",
    "\n",
    "print(\"\\n\" + \"=\"*70)\n",
    "print(\"COMPLETE!\")\n",
    "print(\"=\"*70)"
   ]
  }
 ],
 "metadata": {
  "kernelspec": {
   "display_name": "Python 3",
   "language": "python",
   "name": "python3"
  },
  "language_info": {
   "codemirror_mode": {
    "name": "ipython",
    "version": 3
   },
   "file_extension": ".py",
   "mimetype": "text/x-python",
   "name": "python",
   "nbconvert_exporter": "python",
   "pygments_lexer": "ipython3",
   "version": "3.10.18"
  },
  "papermill": {
   "default_parameters": {},
   "duration": 710.212854,
   "end_time": "2025-10-08T07:15:18.730113",
   "environment_variables": {},
   "exception": null,
   "input_path": "notebooks/13_null_model_training.ipynb",
   "output_path": "notebooks/executed/13_null_model_training_executed.ipynb",
   "parameters": {},
   "start_time": "2025-10-08T07:03:28.517259",
   "version": "2.6.0"
  }
 },
 "nbformat": 4,
 "nbformat_minor": 5
}