{
 "cells": [
  {
   "cell_type": "markdown",
   "id": "313f0fc9",
   "metadata": {},
   "source": [
    "# Download Hetionet Null Graphs\n",
    "\n",
    "This notebook downloads the pre-computed null graphs (permutations) from the Hetionet repository.\n",
    "\n",
    "**Source**: https://github.com/hetio/hetionet/blob/a95ae76581af604e91d744680aee3f888fa18887/hetnet/permuted/matrix/hetionet-v1.0-permutations.zip\n",
    "\n"
   ]
  },
  {
   "cell_type": "code",
   "execution_count": null,
   "id": "577534a0",
   "metadata": {},
   "outputs": [],
   "source": [
    "# Import all required libraries\n",
    "import os\n",
    "import sys\n",
    "from pathlib import Path\n",
    "\n",
    "# Add src directory to path for helper functions\n",
    "repo_dir = Path().cwd().parent\n",
    "src_dir = repo_dir / \"src\"\n",
    "sys.path.insert(0, str(src_dir))\n",
    "\n",
    "# Import helper functions from src package\n",
    "from download_utils import (\n",
    "    download_file,\n",
    "    extract_zip,\n",
    "    organize_permutations,\n",
    "    download_hetionet_permutations,\n",
    ")\n",
    "\n",
    "# Data manipulation\n",
    "import pandas as pd"
   ]
  },
  {
   "cell_type": "code",
   "execution_count": null,
   "id": "3d7df327",
   "metadata": {},
   "outputs": [],
   "source": [
    "# Configuration\n",
    "DOWNLOAD_URL = \"https://github.com/hetio/hetionet/raw/a95ae76581af604e91d744680aee3f888fa18887/hetnet/permuted/matrix/hetionet-v1.0-permutations.zip\"\n",
    "REPO_DIR = Path().cwd().parent\n",
    "DATA_DIR = REPO_DIR / \"data\"\n",
    "DOWNLOAD_DIR = DATA_DIR / \"downloads\"\n",
    "ZIP_FILENAME = \"hetionet-v1.0-permutations.zip\"\n",
    "ZIP_PATH = DOWNLOAD_DIR / ZIP_FILENAME\n",
    "\n",
    "print(f\"Repository directory: {REPO_DIR}\")\n",
    "print(f\"Data directory: {DATA_DIR}\")\n",
    "print(f\"Download directory: {DOWNLOAD_DIR}\")\n",
    "print(f\"Download URL: {DOWNLOAD_URL}\")"
   ]
  },
  {
   "cell_type": "code",
   "execution_count": null,
   "id": "dd6e3c0e",
   "metadata": {},
   "outputs": [],
   "source": [
    "# Create download directory\n",
    "DOWNLOAD_DIR.mkdir(parents=True, exist_ok=True)\n",
    "print(f\"Created download directory: {DOWNLOAD_DIR}\")"
   ]
  },
  {
   "cell_type": "code",
   "execution_count": null,
   "id": "88c45343",
   "metadata": {},
   "outputs": [],
   "source": [
    "# Download and extract the file\n",
    "print(\"Downloading Hetionet permutations file...\")\n",
    "\n",
    "# Download the file if it doesn't exist\n",
    "if not ZIP_PATH.exists():\n",
    "    download_file(DOWNLOAD_URL, ZIP_PATH)\n",
    "\n",
    "print(f\"Downloaded: {ZIP_PATH}\")\n",
    "print(f\"File size: {ZIP_PATH.stat().st_size / (1024*1024):.1f} MB\")\n",
    "\n",
    "# Extract the ZIP file\n",
    "extract_dir = DOWNLOAD_DIR / \"hetionet-permutations\"\n",
    "if not extract_dir.exists():\n",
    "    extract_zip(ZIP_PATH, extract_dir)\n",
    "\n",
    "print(f\"Extracted to: {extract_dir}\")\n",
    "extracted_items = list(extract_dir.iterdir())\n",
    "print(f\"Extracted {len(extracted_items)} items\")"
   ]
  },
  {
   "cell_type": "code",
   "execution_count": null,
   "id": "982fc262",
   "metadata": {},
   "outputs": [],
   "source": [
    "# Summary\n",
    "print(\"Download Summary\")\n",
    "print(\"=\" * 40)\n",
    "\n",
    "file_size_mb = ZIP_PATH.stat().st_size / (1024 * 1024)\n",
    "print(f\"Downloaded file: {ZIP_PATH.name}\")\n",
    "print(f\"File size: {file_size_mb:.1f} MB\")\n",
    "print(f\"Location: {ZIP_PATH}\")\n",
    "\n",
    "extract_dir = DOWNLOAD_DIR / \"hetionet-permutations\"\n",
    "extracted_items = list(extract_dir.iterdir())\n",
    "print(f\"Extracted directory: {extract_dir.name}\")\n",
    "print(f\"Extracted items: {len(extracted_items)}\")\n",
    "\n",
    "print(f\"\\nTo use these permutations in your analysis:\")\n",
    "print(f\"Set permutations_subdirectory = 'downloads/hetionet-permutations'\")"
   ]
  }
 ],
 "metadata": {
  "language_info": {
   "name": "python"
  }
 },
 "nbformat": 4,
 "nbformat_minor": 5
}
