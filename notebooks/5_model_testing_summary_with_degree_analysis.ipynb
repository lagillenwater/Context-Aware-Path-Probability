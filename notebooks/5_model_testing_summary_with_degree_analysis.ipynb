{
 "cells": [
  {
   "cell_type": "markdown",
   "metadata": {},
   "source": [
    "# Enhanced Model Testing Summary with Degree-Based Error Analysis\n",
    "\n",
    "This notebook extends the original model testing summary (Notebook 5) with comprehensive\n",
    "degree-based error analysis for better understanding of model performance patterns.\n",
    "\n",
    "## Enhanced Features\n",
    "\n",
    "- **Degree-stratified performance metrics**: Analyze errors by node degree combinations\n",
    "- **Bias-variance decomposition**: Understand error sources across degree ranges\n",
    "- **Enhanced visualizations**: Heatmaps and plots by degree categories\n",
    "- **Scalable framework**: Optimized for both small graphs and HPC deployment\n",
    "\n",
    "## Workflow\n",
    "\n",
    "1. Load and aggregate model performance data\n",
    "2. Apply degree-based analysis to each edge type\n",
    "3. Generate comprehensive degree-stratified metrics\n",
    "4. Create enhanced visualizations\n",
    "5. Provide degree-aware model recommendations"
   ]
  },
  {
   "cell_type": "code",
   "execution_count": 1,
   "metadata": {},
   "outputs": [],
   "source": [
    "# Papermill parameters (optional)\n",
    "edge_types = None  # None = use small graphs for testing, or provide list\n",
    "small_graph_mode = True  # Set to False for full HPC analysis\n",
    "max_edges_small = 10000  # Maximum edges for small graph classification"
   ]
  },
  {
   "cell_type": "code",
   "execution_count": 2,
   "metadata": {},
   "outputs": [
    {
     "name": "stdout",
     "output_type": "stream",
     "text": [
      "Repository directory: /projects/lgillenwater@xsede.org/repositories/Context-Aware-Path-Probability\n",
      "Results directory: /projects/lgillenwater@xsede.org/repositories/Context-Aware-Path-Probability/results/model_comparison\n",
      "Summary output directory: /projects/lgillenwater@xsede.org/repositories/Context-Aware-Path-Probability/results/model_comparison_summary_with_degree\n",
      "Degree analysis output directory: /projects/lgillenwater@xsede.org/repositories/Context-Aware-Path-Probability/results/degree_analysis_enhanced\n",
      "Small graph mode: True\n"
     ]
    }
   ],
   "source": [
    "import sys\n",
    "from pathlib import Path\n",
    "import numpy as np\n",
    "import pandas as pd\n",
    "import matplotlib.pyplot as plt\n",
    "import seaborn as sns\n",
    "import json\n",
    "import scipy.sparse as sp\n",
    "from typing import Dict, List, Tuple\n",
    "import warnings\n",
    "warnings.filterwarnings('ignore')\n",
    "\n",
    "# Setup paths\n",
    "repo_dir = Path.cwd().parent\n",
    "src_dir = repo_dir / 'src'\n",
    "data_dir = repo_dir / 'data'\n",
    "results_dir = repo_dir / 'results' / 'model_comparison'\n",
    "summary_dir = repo_dir / 'results' / 'model_comparison_summary_with_degree'\n",
    "degree_analysis_dir = repo_dir / 'results' / 'degree_analysis_enhanced'\n",
    "\n",
    "summary_dir.mkdir(parents=True, exist_ok=True)\n",
    "degree_analysis_dir.mkdir(parents=True, exist_ok=True)\n",
    "\n",
    "sys.path.append(str(src_dir))\n",
    "\n",
    "# Import modules\n",
    "from degree_analysis import DegreeAnalyzer, identify_small_graphs, run_degree_analysis_pipeline\n",
    "\n",
    "print(f\"Repository directory: {repo_dir}\")\n",
    "print(f\"Results directory: {results_dir}\")\n",
    "print(f\"Summary output directory: {summary_dir}\")\n",
    "print(f\"Degree analysis output directory: {degree_analysis_dir}\")\n",
    "print(f\"Small graph mode: {small_graph_mode}\")\n",
    "\n",
    "# Set plot style\n",
    "sns.set_style('whitegrid')\n",
    "plt.rcParams['figure.dpi'] = 100"
   ]
  },
  {
   "cell_type": "markdown",
   "metadata": {},
   "source": [
    "## 1. Identify Target Edge Types"
   ]
  },
  {
   "cell_type": "code",
   "execution_count": 3,
   "metadata": {},
   "outputs": [
    {
     "name": "stdout",
     "output_type": "stream",
     "text": [
      "Small graph mode: analyzing 5 smallest edge types\n",
      "\n",
      "Selected edge types:\n",
      "edge_type  n_edges       shape  density_pct\n",
      "      CpD      390 (1552, 137)     0.183422\n",
      "      CtD      755 (1552, 137)     0.355087\n",
      "     PCiC     1029 (345, 1552)     0.192178\n",
      "      DrD     1086  (137, 137)     5.786137\n",
      "      DpS     3357  (137, 438)     5.594441\n",
      "\n",
      "Target edge types: ['CpD', 'CtD', 'PCiC', 'DrD', 'DpS']\n"
     ]
    }
   ],
   "source": [
    "# Determine which edge types to analyze\n",
    "if edge_types is None:\n",
    "    if small_graph_mode:\n",
    "        # Use small graphs for local testing\n",
    "        small_graphs = identify_small_graphs(data_dir, max_edges=max_edges_small)\n",
    "        edge_types = [g['edge_type'] for g in small_graphs[:5]]  # Top 5 smallest\n",
    "        print(f\"Small graph mode: analyzing {len(edge_types)} smallest edge types\")\n",
    "        \n",
    "        # Display selected graphs\n",
    "        small_df = pd.DataFrame(small_graphs[:5])\n",
    "        small_df['density_pct'] = small_df['density'] * 100\n",
    "        print(\"\\nSelected edge types:\")\n",
    "        print(small_df[['edge_type', 'n_edges', 'shape', 'density_pct']].to_string(index=False))\n",
    "    else:\n",
    "        # Use all available edge types\n",
    "        DEFAULT_EDGE_TYPES = [\n",
    "            \"AdG\", \"AeG\", \"AuG\", \"CbG\", \"CcSE\", \"CdG\", \"CpD\", \"CrC\", \"CtD\", \"CuG\",\n",
    "            \"DaG\", \"DdG\", \"DlA\", \"DpS\", \"DrD\", \"DuG\", \"GcG\", \"GiG\", \"GpBP\", \"GpCC\",\n",
    "            \"GpMF\", \"GpPW\", \"Gr>G\", \"PCiC\"\n",
    "        ]\n",
    "        edge_types = DEFAULT_EDGE_TYPES\n",
    "        print(f\"Full analysis mode: analyzing {len(edge_types)} edge types\")\n",
    "\n",
    "print(f\"\\nTarget edge types: {edge_types}\")"
   ]
  },
  {
   "cell_type": "markdown",
   "metadata": {},
   "source": [
    "## 2. Load Original Model Performance Data"
   ]
  },
  {
   "cell_type": "code",
   "execution_count": 4,
   "metadata": {},
   "outputs": [
    {
     "name": "stdout",
     "output_type": "stream",
     "text": [
      "Successfully loaded results for 5 edge types\n",
      "\n",
      "Proceeding with 5 edge types: ['CpD', 'CtD', 'PCiC', 'DrD', 'DpS']\n"
     ]
    }
   ],
   "source": [
    "def load_edge_type_results(edge_type: str) -> Dict:\n",
    "    \"\"\"Load all result files for a given edge type.\"\"\"\n",
    "    edge_results_dir = results_dir / f\"{edge_type}_results\"\n",
    "    \n",
    "    if not edge_results_dir.exists():\n",
    "        return None\n",
    "    \n",
    "    results = {'edge_type': edge_type}\n",
    "    \n",
    "    # Load model comparison metrics\n",
    "    comparison_file = edge_results_dir / 'model_comparison.csv'\n",
    "    if comparison_file.exists():\n",
    "        results['model_comparison'] = pd.read_csv(comparison_file)\n",
    "    \n",
    "    # Load analytical comparison\n",
    "    analytical_file = edge_results_dir / 'models_vs_analytical_comparison.csv'\n",
    "    if analytical_file.exists():\n",
    "        results['analytical_comparison'] = pd.read_csv(analytical_file)\n",
    "    \n",
    "    # Load empirical comparison\n",
    "    empirical_file = edge_results_dir / 'test_vs_empirical_comparison.csv'\n",
    "    if empirical_file.exists():\n",
    "        results['empirical_comparison'] = pd.read_csv(empirical_file)\n",
    "    \n",
    "    # Load analytical vs empirical comparison\n",
    "    analytical_empirical_file = edge_results_dir / 'analytical_vs_empirical_comparison.csv'\n",
    "    if analytical_empirical_file.exists():\n",
    "        results['analytical_vs_empirical'] = pd.read_csv(analytical_empirical_file)\n",
    "        \n",
    "    return results\n",
    "\n",
    "# Load all results\n",
    "all_results = {}\n",
    "successful_loads = 0\n",
    "failed_loads = []\n",
    "\n",
    "for edge_type in edge_types:\n",
    "    result = load_edge_type_results(edge_type)\n",
    "    if result is not None:\n",
    "        all_results[edge_type] = result\n",
    "        successful_loads += 1\n",
    "    else:\n",
    "        failed_loads.append(edge_type)\n",
    "\n",
    "print(f\"Successfully loaded results for {successful_loads} edge types\")\n",
    "if failed_loads:\n",
    "    print(f\"Failed to load results for {len(failed_loads)} edge types: {failed_loads}\")\n",
    "\n",
    "# Update edge_types to only include successful loads\n",
    "edge_types = list(all_results.keys())\n",
    "print(f\"\\nProceeding with {len(edge_types)} edge types: {edge_types}\")"
   ]
  },
  {
   "cell_type": "markdown",
   "metadata": {},
   "source": [
    "## 3. Run Degree-Based Analysis Pipeline"
   ]
  },
  {
   "cell_type": "code",
   "execution_count": 5,
   "metadata": {},
   "outputs": [
    {
     "name": "stdout",
     "output_type": "stream",
     "text": [
      "Running degree-based analysis for 5 edge types...\n",
      "\n",
      "[1/5] Analyzing CpD...\n",
      "  ✗ Error: 'Model'\n",
      "[2/5] Analyzing CtD...\n",
      "  ✗ Error: 'Model'\n",
      "[3/5] Analyzing PCiC...\n",
      "  ✗ Error: 'Model'\n",
      "[4/5] Analyzing DrD...\n",
      "  ✗ Error: 'Model'\n",
      "[5/5] Analyzing DpS...\n",
      "  ✗ Error: 'Model'\n",
      "\n",
      "============================================================\n",
      "DEGREE ANALYSIS SUMMARY\n",
      "============================================================\n",
      "Successful: 0 - []\n",
      "Failed: 5 - ['CpD', 'CtD', 'PCiC', 'DrD', 'DpS']\n",
      "Success rate: 0.0%\n"
     ]
    }
   ],
   "source": [
    "# Run degree analysis for each edge type\n",
    "degree_analysis_results = {}\n",
    "successful_degree_analyses = []\n",
    "failed_degree_analyses = []\n",
    "\n",
    "print(f\"Running degree-based analysis for {len(edge_types)} edge types...\\n\")\n",
    "\n",
    "for i, edge_type in enumerate(edge_types):\n",
    "    print(f\"[{i+1}/{len(edge_types)}] Analyzing {edge_type}...\")\n",
    "    \n",
    "    try:\n",
    "        file_paths = run_degree_analysis_pipeline(\n",
    "            edge_type=edge_type,\n",
    "            data_dir=data_dir,\n",
    "            results_dir=results_dir,\n",
    "            output_dir=degree_analysis_dir,\n",
    "            small_graph_mode=small_graph_mode\n",
    "        )\n",
    "        \n",
    "        if file_paths:\n",
    "            degree_analysis_results[edge_type] = file_paths\n",
    "            successful_degree_analyses.append(edge_type)\n",
    "            print(f\"  ✓ Success - Generated files for {len(file_paths)} models\")\n",
    "        else:\n",
    "            failed_degree_analyses.append(edge_type)\n",
    "            print(f\"  ✗ Failed - No output generated\")\n",
    "    \n",
    "    except Exception as e:\n",
    "        failed_degree_analyses.append(edge_type)\n",
    "        print(f\"  ✗ Error: {e}\")\n",
    "\n",
    "print(f\"\\n{'='*60}\")\n",
    "print(f\"DEGREE ANALYSIS SUMMARY\")\n",
    "print(f\"{'='*60}\")\n",
    "print(f\"Successful: {len(successful_degree_analyses)} - {successful_degree_analyses}\")\n",
    "print(f\"Failed: {len(failed_degree_analyses)} - {failed_degree_analyses}\")\n",
    "print(f\"Success rate: {len(successful_degree_analyses)/len(edge_types)*100:.1f}%\")"
   ]
  },
  {
   "cell_type": "markdown",
   "metadata": {},
   "source": [
    "## 4. Aggregate Degree-Based Metrics"
   ]
  },
  {
   "cell_type": "code",
   "execution_count": 6,
   "metadata": {},
   "outputs": [
    {
     "name": "stdout",
     "output_type": "stream",
     "text": [
      "No degree metrics data available\n"
     ]
    }
   ],
   "source": [
    "# Aggregate degree-based metrics across all edge types and models\n",
    "degree_metrics_list = []\n",
    "\n",
    "for edge_type in successful_degree_analyses:\n",
    "    # Find all degree metrics files for this edge type\n",
    "    metrics_files = list(degree_analysis_dir.glob(f'{edge_type}_*_degree_metrics.csv'))\n",
    "    \n",
    "    for metrics_file in metrics_files:\n",
    "        # Extract model name from filename\n",
    "        filename_parts = metrics_file.stem.split('_')\n",
    "        model_name = ' '.join(filename_parts[1:-2])  # Remove edge_type and 'degree_metrics'\n",
    "        \n",
    "        try:\n",
    "            metrics_df = pd.read_csv(metrics_file)\n",
    "            metrics_df['edge_type'] = edge_type\n",
    "            metrics_df['model'] = model_name\n",
    "            degree_metrics_list.append(metrics_df)\n",
    "        except Exception as e:\n",
    "            print(f\"Error loading {metrics_file}: {e}\")\n",
    "\n",
    "if degree_metrics_list:\n",
    "    degree_metrics_df = pd.concat(degree_metrics_list, ignore_index=True)\n",
    "    print(f\"Aggregated degree metrics: {len(degree_metrics_df)} records\")\n",
    "    print(f\"Edge types: {degree_metrics_df['edge_type'].nunique()}\")\n",
    "    print(f\"Models: {degree_metrics_df['model'].unique().tolist()}\")\n",
    "    print(f\"Degree combinations: {degree_metrics_df['degree_combination'].nunique()}\")\n",
    "    \n",
    "    # Display sample\n",
    "    print(\"\\nSample degree metrics:\")\n",
    "    display_cols = ['edge_type', 'model', 'degree_combination', 'n_samples', 'mae', 'correlation']\n",
    "    print(degree_metrics_df[display_cols].head(10).to_string(index=False))\n",
    "else:\n",
    "    degree_metrics_df = pd.DataFrame()\n",
    "    print(\"No degree metrics data available\")"
   ]
  },
  {
   "cell_type": "markdown",
   "metadata": {},
   "source": [
    "## 5. Enhanced Visualizations"
   ]
  },
  {
   "cell_type": "code",
   "execution_count": 7,
   "metadata": {},
   "outputs": [],
   "source": [
    "if not degree_metrics_df.empty:\n",
    "    # 1. Error by degree combination across all edge types\n",
    "    fig, axes = plt.subplots(2, 2, figsize=(18, 14))\n",
    "    \n",
    "    metrics_to_plot = ['mae', 'rmse', 'correlation', 'bias']\n",
    "    \n",
    "    for idx, metric in enumerate(metrics_to_plot):\n",
    "        ax = axes[idx // 2, idx % 2]\n",
    "        \n",
    "        # Average metric by degree combination and model\n",
    "        pivot_data = degree_metrics_df.groupby(['degree_combination', 'model'])[metric].mean().unstack(fill_value=np.nan)\n",
    "        \n",
    "        # Create grouped bar plot\n",
    "        pivot_data.plot(kind='bar', ax=ax, width=0.8)\n",
    "        \n",
    "        ax.set_title(f'Average {metric.upper()} by Degree Combination', fontsize=14, fontweight='bold')\n",
    "        ax.set_xlabel('Degree Combination', fontsize=12)\n",
    "        ax.set_ylabel(f'Mean {metric.upper()}', fontsize=12)\n",
    "        ax.legend(title='Model', bbox_to_anchor=(1.05, 1), loc='upper left')\n",
    "        ax.grid(axis='y', alpha=0.3)\n",
    "        ax.set_xticklabels(ax.get_xticklabels(), rotation=45, ha='right')\n",
    "    \n",
    "    plt.tight_layout()\n",
    "    plt.savefig(summary_dir / 'degree_based_performance_overview.png', dpi=300, bbox_inches='tight')\n",
    "    plt.show()\n",
    "    print(\"Saved degree-based performance overview\")"
   ]
  },
  {
   "cell_type": "code",
   "execution_count": 8,
   "metadata": {},
   "outputs": [],
   "source": [
    "if not degree_metrics_df.empty:\n",
    "    # 2. Model comparison heatmap by degree combination\n",
    "    fig, axes = plt.subplots(1, 2, figsize=(20, 8))\n",
    "    \n",
    "    # MAE heatmap\n",
    "    mae_pivot = degree_metrics_df.groupby(['model', 'degree_combination'])['mae'].mean().unstack(fill_value=np.nan)\n",
    "    sns.heatmap(mae_pivot, annot=True, fmt='.4f', cmap='Reds', ax=axes[0],\n",
    "                cbar_kws={'label': 'Mean Absolute Error'})\n",
    "    axes[0].set_title('MAE by Model and Degree Combination', fontsize=14, fontweight='bold')\n",
    "    axes[0].set_xlabel('Degree Combination', fontsize=12)\n",
    "    axes[0].set_ylabel('Model', fontsize=12)\n",
    "    \n",
    "    # Correlation heatmap\n",
    "    corr_pivot = degree_metrics_df.groupby(['model', 'degree_combination'])['correlation'].mean().unstack(fill_value=np.nan)\n",
    "    sns.heatmap(corr_pivot, annot=True, fmt='.4f', cmap='Blues', ax=axes[1],\n",
    "                cbar_kws={'label': 'Correlation'})\n",
    "    axes[1].set_title('Correlation by Model and Degree Combination', fontsize=14, fontweight='bold')\n",
    "    axes[1].set_xlabel('Degree Combination', fontsize=12)\n",
    "    axes[1].set_ylabel('Model', fontsize=12)\n",
    "    \n",
    "    plt.tight_layout()\n",
    "    plt.savefig(summary_dir / 'model_degree_heatmaps.png', dpi=300, bbox_inches='tight')\n",
    "    plt.show()\n",
    "    print(\"Saved model-degree heatmaps\")"
   ]
  },
  {
   "cell_type": "code",
   "execution_count": 9,
   "metadata": {},
   "outputs": [],
   "source": [
    "if not degree_metrics_df.empty:\n",
    "    # 3. Sample size distribution by degree combination\n",
    "    fig, axes = plt.subplots(1, 2, figsize=(16, 6))\n",
    "    \n",
    "    # Box plot of sample sizes\n",
    "    degree_metrics_df.boxplot(column='n_samples', by='degree_combination', ax=axes[0])\n",
    "    axes[0].set_title('Sample Size Distribution by Degree Combination', fontsize=14, fontweight='bold')\n",
    "    axes[0].set_xlabel('Degree Combination', fontsize=12)\n",
    "    axes[0].set_ylabel('Sample Size', fontsize=12)\n",
    "    axes[0].set_xticklabels(axes[0].get_xticklabels(), rotation=45, ha='right')\n",
    "    plt.suptitle('')  # Remove automatic title\n",
    "    \n",
    "    # Average sample size by degree combination\n",
    "    avg_samples = degree_metrics_df.groupby('degree_combination')['n_samples'].mean().sort_values(ascending=False)\n",
    "    avg_samples.plot(kind='bar', ax=axes[1], color='skyblue', edgecolor='black')\n",
    "    axes[1].set_title('Average Sample Size by Degree Combination', fontsize=14, fontweight='bold')\n",
    "    axes[1].set_xlabel('Degree Combination', fontsize=12)\n",
    "    axes[1].set_ylabel('Average Sample Size', fontsize=12)\n",
    "    axes[1].grid(axis='y', alpha=0.3)\n",
    "    axes[1].set_xticklabels(axes[1].get_xticklabels(), rotation=45, ha='right')\n",
    "    \n",
    "    # Add value labels\n",
    "    for i, v in enumerate(avg_samples.values):\n",
    "        axes[1].text(i, v + v*0.02, f'{int(v)}', ha='center', va='bottom', fontweight='bold')\n",
    "    \n",
    "    plt.tight_layout()\n",
    "    plt.savefig(summary_dir / 'sample_size_by_degree.png', dpi=300, bbox_inches='tight')\n",
    "    plt.show()\n",
    "    print(\"Saved sample size analysis\")"
   ]
  },
  {
   "cell_type": "markdown",
   "metadata": {},
   "source": [
    "## 6. Enhanced Model Recommendations"
   ]
  },
  {
   "cell_type": "code",
   "execution_count": 10,
   "metadata": {},
   "outputs": [
    {
     "name": "stdout",
     "output_type": "stream",
     "text": [
      "No degree metrics available for enhanced recommendations\n"
     ]
    }
   ],
   "source": [
    "# Generate degree-aware model recommendations\n",
    "if not degree_metrics_df.empty:\n",
    "    print(f\"\\n{'='*80}\")\n",
    "    print(f\"ENHANCED MODEL RECOMMENDATIONS WITH DEGREE ANALYSIS\")\n",
    "    print(f\"{'='*80}\")\n",
    "    \n",
    "    # 1. Best model by degree combination (correlation)\n",
    "    print(f\"\\n1. BEST MODEL BY DEGREE COMBINATION (Correlation):\")\n",
    "    best_by_degree = degree_metrics_df.groupby('degree_combination')['correlation'].agg(['mean', 'idxmax'])\n",
    "    for degree_combo in best_by_degree.index:\n",
    "        best_idx = best_by_degree.loc[degree_combo, 'idxmax']\n",
    "        best_model = degree_metrics_df.loc[best_idx, 'model']\n",
    "        best_corr = best_by_degree.loc[degree_combo, 'mean']\n",
    "        print(f\"   {degree_combo}: {best_model} (avg correlation: {best_corr:.4f})\")\n",
    "    \n",
    "    # 2. Most robust model across degree combinations (lowest std)\n",
    "    print(f\"\\n2. MOST ROBUST MODELS (Lowest correlation std across degree combinations):\")\n",
    "    model_stability = degree_metrics_df.groupby('model')['correlation'].agg(['mean', 'std']).sort_values('std')\n",
    "    print(f\"   Most stable: {model_stability.index[0]} (std: {model_stability.iloc[0]['std']:.4f}, mean: {model_stability.iloc[0]['mean']:.4f})\")\n",
    "    print(f\"   Least stable: {model_stability.index[-1]} (std: {model_stability.iloc[-1]['std']:.4f}, mean: {model_stability.iloc[-1]['mean']:.4f})\")\n",
    "    \n",
    "    # 3. Best models for high vs low degree nodes\n",
    "    print(f\"\\n3. RECOMMENDATIONS BY DEGREE CATEGORY:\")\n",
    "    \n",
    "    # Categorize degree combinations\n",
    "    degree_metrics_df['is_high_degree'] = degree_metrics_df['degree_combination'].str.contains('High|Hub')\n",
    "    \n",
    "    high_degree_best = degree_metrics_df[degree_metrics_df['is_high_degree']].groupby('model')['correlation'].mean().idxmax()\n",
    "    low_degree_best = degree_metrics_df[~degree_metrics_df['is_high_degree']].groupby('model')['correlation'].mean().idxmax()\n",
    "    \n",
    "    high_degree_corr = degree_metrics_df[degree_metrics_df['is_high_degree']].groupby('model')['correlation'].mean().max()\n",
    "    low_degree_corr = degree_metrics_df[~degree_metrics_df['is_high_degree']].groupby('model')['correlation'].mean().max()\n",
    "    \n",
    "    print(f\"   High-degree nodes: {high_degree_best} (avg correlation: {high_degree_corr:.4f})\")\n",
    "    print(f\"   Low-degree nodes: {low_degree_best} (avg correlation: {low_degree_corr:.4f})\")\n",
    "    \n",
    "    # 4. Error magnitude by degree combination\n",
    "    print(f\"\\n4. ERROR PATTERNS BY DEGREE COMBINATION:\")\n",
    "    avg_mae_by_degree = degree_metrics_df.groupby('degree_combination')['mae'].mean().sort_values(ascending=False)\n",
    "    print(f\"   Highest error: {avg_mae_by_degree.index[0]} (MAE: {avg_mae_by_degree.iloc[0]:.4f})\")\n",
    "    print(f\"   Lowest error: {avg_mae_by_degree.index[-1]} (MAE: {avg_mae_by_degree.iloc[-1]:.4f})\")\n",
    "    \n",
    "    # 5. Sample size considerations\n",
    "    print(f\"\\n5. SAMPLE SIZE CONSIDERATIONS:\")\n",
    "    min_samples_by_degree = degree_metrics_df.groupby('degree_combination')['n_samples'].min().sort_values()\n",
    "    print(f\"   Smallest sample size: {min_samples_by_degree.index[0]} ({min_samples_by_degree.iloc[0]} samples)\")\n",
    "    print(f\"   Largest sample size: {min_samples_by_degree.index[-1]} ({min_samples_by_degree.iloc[-1]} samples)\")\n",
    "    \n",
    "    low_sample_combinations = min_samples_by_degree[min_samples_by_degree < 100]\n",
    "    if len(low_sample_combinations) > 0:\n",
    "        print(f\"   ⚠ Low sample size combinations (<100): {list(low_sample_combinations.index)}\")\n",
    "    \n",
    "else:\n",
    "    print(\"No degree metrics available for enhanced recommendations\")"
   ]
  },
  {
   "cell_type": "markdown",
   "metadata": {},
   "source": [
    "## 7. Save Enhanced Results"
   ]
  },
  {
   "cell_type": "code",
   "execution_count": 11,
   "metadata": {},
   "outputs": [
    {
     "name": "stdout",
     "output_type": "stream",
     "text": [
      "\n",
      "================================================================================\n",
      "ANALYSIS COMPLETE\n",
      "================================================================================\n",
      "\n",
      "Generated files in /projects/lgillenwater@xsede.org/repositories/Context-Aware-Path-Probability/results/model_comparison_summary_with_degree:\n",
      "\n",
      "Detailed degree analysis files in /projects/lgillenwater@xsede.org/repositories/Context-Aware-Path-Probability/results/degree_analysis_enhanced:\n",
      "  Total files: 0\n",
      "  CSV files: 0\n",
      "  PNG files: 0\n",
      "\n",
      "✓ Small graph validation complete!\n",
      "✓ Framework ready for HPC deployment\n"
     ]
    }
   ],
   "source": [
    "# Save aggregated degree metrics\n",
    "if not degree_metrics_df.empty:\n",
    "    degree_metrics_file = summary_dir / 'aggregate_degree_metrics.csv'\n",
    "    degree_metrics_df.to_csv(degree_metrics_file, index=False)\n",
    "    print(f\"Saved aggregated degree metrics to: {degree_metrics_file}\")\n",
    "    \n",
    "    # Save summary statistics\n",
    "    summary_stats = {\n",
    "        'total_edge_types_analyzed': len(successful_degree_analyses),\n",
    "        'degree_combinations_found': degree_metrics_df['degree_combination'].nunique(),\n",
    "        'models_analyzed': degree_metrics_df['model'].nunique(),\n",
    "        'total_records': len(degree_metrics_df),\n",
    "        'analysis_mode': 'small_graph' if small_graph_mode else 'full_scale',\n",
    "        'successful_edge_types': successful_degree_analyses,\n",
    "        'failed_edge_types': failed_degree_analyses\n",
    "    }\n",
    "    \n",
    "    summary_file = summary_dir / 'degree_analysis_summary.json'\n",
    "    with open(summary_file, 'w') as f:\n",
    "        json.dump(summary_stats, f, indent=2)\n",
    "    print(f\"Saved summary statistics to: {summary_file}\")\n",
    "\n",
    "# List all generated files\n",
    "print(f\"\\n{'='*80}\")\n",
    "print(f\"ANALYSIS COMPLETE\")\n",
    "print(f\"{'='*80}\")\n",
    "print(f\"\\nGenerated files in {summary_dir}:\")\n",
    "for file in sorted(summary_dir.glob('*')):\n",
    "    print(f\"  - {file.name}\")\n",
    "\n",
    "print(f\"\\nDetailed degree analysis files in {degree_analysis_dir}:\")\n",
    "analysis_files = list(degree_analysis_dir.glob('*'))\n",
    "print(f\"  Total files: {len(analysis_files)}\")\n",
    "print(f\"  CSV files: {len([f for f in analysis_files if f.suffix == '.csv'])}\")\n",
    "print(f\"  PNG files: {len([f for f in analysis_files if f.suffix == '.png'])}\")\n",
    "\n",
    "if small_graph_mode:\n",
    "    print(f\"\\n✓ Small graph validation complete!\")\n",
    "    print(f\"✓ Framework ready for HPC deployment\")\n",
    "else:\n",
    "    print(f\"\\n✓ Full-scale degree analysis complete!\")\n",
    "    print(f\"✓ Results ready for publication\")"
   ]
  }
 ],
 "metadata": {
  "kernelspec": {
   "display_name": "Python 3",
   "language": "python",
   "name": "python3"
  },
  "language_info": {
   "codemirror_mode": {
    "name": "ipython",
    "version": 3
   },
   "file_extension": ".py",
   "mimetype": "text/x-python",
   "name": "python",
   "nbconvert_exporter": "python",
   "pygments_lexer": "ipython3",
   "version": "3.10.18"
  }
 },
 "nbformat": 4,
 "nbformat_minor": 4
}
